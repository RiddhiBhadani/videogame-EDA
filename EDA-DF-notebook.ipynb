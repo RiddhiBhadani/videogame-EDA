{
 "cells": [
  {
   "cell_type": "code",
   "execution_count": 1,
   "metadata": {},
   "outputs": [],
   "source": [
    "from os.path import abspath\n",
    "from pyspark.sql import SparkSession"
   ]
  },
  {
   "cell_type": "code",
   "execution_count": 2,
   "metadata": {},
   "outputs": [
    {
     "name": "stderr",
     "output_type": "stream",
     "text": [
      "24/09/09 12:41:20 WARN Utils: Your hostname, riddhi-pc resolves to a loopback address: 127.0.1.1; using 10.0.2.15 instead (on interface enp0s3)\n",
      "24/09/09 12:41:20 WARN Utils: Set SPARK_LOCAL_IP if you need to bind to another address\n",
      "Setting default log level to \"WARN\".\n",
      "To adjust logging level use sc.setLogLevel(newLevel). For SparkR, use setLogLevel(newLevel).\n",
      "24/09/09 12:41:22 WARN NativeCodeLoader: Unable to load native-hadoop library for your platform... using builtin-java classes where applicable\n"
     ]
    }
   ],
   "source": [
    "# Create a spark Spark Session\n",
    "spark = SparkSession \\\n",
    "    .builder \\\n",
    "    .appme(\"VideoGameEDA_DF\") \\\n",
    "    .getOrCreate()"
   ]
  },
  {
   "cell_type": "code",
   "execution_count": 3,
   "metadata": {},
   "outputs": [
    {
     "data": {
      "text/html": [
       "\n",
       "            <div>\n",
       "                <p><b>SparkSession - in-memory</b></p>\n",
       "                \n",
       "        <div>\n",
       "            <p><b>SparkContext</b></p>\n",
       "\n",
       "            <p><a href=\"http://10.0.2.15:4040\">Spark UI</a></p>\n",
       "\n",
       "            <dl>\n",
       "              <dt>Version</dt>\n",
       "                <dd><code>v3.5.2</code></dd>\n",
       "              <dt>Master</dt>\n",
       "                <dd><code>local[*]</code></dd>\n",
       "              <dt>AppName</dt>\n",
       "                <dd><code>VideoGameEDA_DF</code></dd>\n",
       "            </dl>\n",
       "        </div>\n",
       "        \n",
       "            </div>\n",
       "        "
      ],
      "text/plain": [
       "<pyspark.sql.session.SparkSession at 0x7bf5a3535cd0>"
      ]
     },
     "execution_count": 3,
     "metadata": {},
     "output_type": "execute_result"
    }
   ],
   "source": [
    "# Show spark info\n",
    "spark"
   ]
  },
  {
   "cell_type": "code",
   "execution_count": 4,
   "metadata": {},
   "outputs": [],
   "source": [
    "# Read the Video Games Dataset\n",
    "csvDF = spark.read.options(header = True).csv('Datasets/Video_Games.csv')"
   ]
  },
  {
   "cell_type": "code",
   "execution_count": 9,
   "metadata": {},
   "outputs": [
    {
     "name": "stdout",
     "output_type": "stream",
     "text": [
      "root\n",
      " |-- Name: string (nullable = true)\n",
      " |-- Platform: string (nullable = true)\n",
      " |-- Year_of_Release: string (nullable = true)\n",
      " |-- Genre: string (nullable = true)\n",
      " |-- Publisher: string (nullable = true)\n",
      " |-- NA_Sales: string (nullable = true)\n",
      " |-- EU_Sales: string (nullable = true)\n",
      " |-- JP_Sales: string (nullable = true)\n",
      " |-- Other_Sales: string (nullable = true)\n",
      " |-- Global_Sales: string (nullable = true)\n",
      " |-- Critic_Score: string (nullable = true)\n",
      " |-- Critic_Count: string (nullable = true)\n",
      " |-- User_Score: string (nullable = true)\n",
      " |-- User_Count: string (nullable = true)\n",
      " |-- Developer: string (nullable = true)\n",
      " |-- Rating: string (nullable = true)\n",
      "\n"
     ]
    }
   ],
   "source": [
    "# Print the Schema of the dataset\n",
    "csvDF.printSchema()"
   ]
  },
  {
   "cell_type": "code",
   "execution_count": 16,
   "metadata": {},
   "outputs": [],
   "source": [
    "# type conversion for columns\n",
    "updatedSchemaDF = csvDF.withColumn(\"Year_of_Release\", csvDF.Year_of_Release.cast('int')) \\\n",
    ".withColumn(\"NA_Sales\", csvDF.NA_Sales.cast('float')) \\\n",
    ".withColumn(\"EU_Sales\", csvDF.EU_Sales.cast('float')) \\\n",
    ".withColumn(\"JP_Sales\", csvDF.JP_Sales.cast('float')) \\\n",
    ".withColumn(\"Other_Sales\", csvDF.Other_Sales.cast('float')) \\\n",
    ".withColumn(\"Global_Sales\", csvDF.Global_Sales.cast('float')) \\\n",
    ".withColumn(\"Critic_Score\", csvDF.Critic_Score.cast('float')) \\\n",
    ".withColumn(\"Critic_Count\", csvDF.Critic_Count.cast('int')) \\\n",
    ".withColumn(\"User_Count\", csvDF.User_Count.cast('int')) \\\n",
    ".withColumn(\"User_Score\", csvDF.User_Score.cast('float')) "
   ]
  },
  {
   "cell_type": "code",
   "execution_count": 17,
   "metadata": {},
   "outputs": [
    {
     "name": "stdout",
     "output_type": "stream",
     "text": [
      "root\n",
      " |-- Name: string (nullable = true)\n",
      " |-- Platform: string (nullable = true)\n",
      " |-- Year_of_Release: integer (nullable = true)\n",
      " |-- Genre: string (nullable = true)\n",
      " |-- Publisher: string (nullable = true)\n",
      " |-- NA_Sales: float (nullable = true)\n",
      " |-- EU_Sales: float (nullable = true)\n",
      " |-- JP_Sales: float (nullable = true)\n",
      " |-- Other_Sales: float (nullable = true)\n",
      " |-- Global_Sales: float (nullable = true)\n",
      " |-- Critic_Score: float (nullable = true)\n",
      " |-- Critic_Count: integer (nullable = true)\n",
      " |-- User_Score: float (nullable = true)\n",
      " |-- User_Count: integer (nullable = true)\n",
      " |-- Developer: string (nullable = true)\n",
      " |-- Rating: string (nullable = true)\n",
      "\n"
     ]
    }
   ],
   "source": [
    "updatedSchemaDF.printSchema()"
   ]
  },
  {
   "cell_type": "code",
   "execution_count": 24,
   "metadata": {},
   "outputs": [
    {
     "name": "stderr",
     "output_type": "stream",
     "text": [
      "[Stage 10:>                                                         (0 + 1) / 1]\r"
     ]
    },
    {
     "name": "stdout",
     "output_type": "stream",
     "text": [
      "+-----------------------------------------+--------------+--------------+--------------+--------------+------------------+-----------------+\n",
      "|Name                                     |Total_NA_Sales|Total_EU_Sales|Total_EU_Sales|Total_JP_Sales|Total_Global_Sales|Total_Other_Sales|\n",
      "+-----------------------------------------+--------------+--------------+--------------+--------------+------------------+-----------------+\n",
      "|The Elder Scrolls V: Skyrim              |9.65          |8.37          |8.37          |0.39          |21.15             |2.73             |\n",
      "|The Legend of Zelda: Oracle of Ages      |0.92          |0.53          |0.53          |0.41          |1.92              |0.06             |\n",
      "|Call of Duty Black Ops: Declassified     |0.71          |0.43          |0.43          |0.07          |1.47              |0.26             |\n",
      "|Joust                                    |1.01          |0.06          |0.06          |0.0           |1.08              |0.01             |\n",
      "|Legacy of Kain: Soul Reaver              |0.58          |0.4           |0.4           |0.0           |1.04              |0.07             |\n",
      "|All-Star Baseball 2003                   |0.8           |0.42          |0.42          |0.0           |1.33              |0.11             |\n",
      "|J-League Soccer: Prime Goal              |0.0           |0.0           |0.0           |0.69          |0.69              |0.0              |\n",
      "|RIFT                                     |0.44          |0.16          |0.16          |0.0           |0.67              |0.07             |\n",
      "|Ninokuni: Shikkoku no Madoushi           |0.0           |0.0           |0.0           |0.54          |0.54              |0.0              |\n",
      "|Paws & Claws: Dogs & Cats Best Friends   |0.46          |0.01          |0.01          |0.0           |0.5               |0.04             |\n",
      "|Barnstorming                             |0.4           |0.02          |0.02          |0.0           |0.43              |0.0              |\n",
      "|Barbie: Jet, Set & Style!                |0.56          |0.06          |0.06          |0.0           |0.67              |0.05             |\n",
      "|Yu-Gi-Oh! GX: Tag Force 2                |0.03          |0.19          |0.19          |0.1           |0.41              |0.1              |\n",
      "|Sherlock Holmes: The Mystery of the Mummy|0.06          |0.3           |0.3           |0.0           |0.39              |0.04             |\n",
      "|ESPN X Games Skateboarding               |0.31          |0.19          |0.19          |0.0           |0.54              |0.05             |\n",
      "|Virtua Cop 2                             |0.0           |0.0           |0.0           |0.3           |0.3               |0.0              |\n",
      "|RalliSport Challenge 2                   |0.18          |0.08          |0.08          |0.0           |0.27              |0.01             |\n",
      "|That's So Raven: Psychic on the Scene    |0.23          |0.0           |0.0           |0.0           |0.24              |0.02             |\n",
      "|Naruto: Ninja Council 2 European Version |0.0           |0.0           |0.0           |0.23          |0.23              |0.0              |\n",
      "|Petz: Horse Club                         |0.2           |0.0           |0.0           |0.0           |0.21              |0.02             |\n",
      "+-----------------------------------------+--------------+--------------+--------------+--------------+------------------+-----------------+\n",
      "only showing top 20 rows\n",
      "\n"
     ]
    },
    {
     "name": "stderr",
     "output_type": "stream",
     "text": [
      "                                                                                \r"
     ]
    }
   ],
   "source": [
    "# Calculate the ToTal Sales per Game - North America, EU, JP, Global and Other sales.\n",
    "from pyspark.sql import functions as F\n",
    "\n",
    "updatedSchemaDF.groupBy(\"Name\") \\\n",
    "    .agg(F.round(F.sum(\"NA_Sales\"), 2).alias(\"Total_NA_Sales\"), \n",
    "         F.round(F.sum(\"EU_Sales\"), 2).alias(\"Total_EU_Sales\"), \\\n",
    "         F.round(F.sum(\"EU_Sales\"), 2).alias(\"Total_EU_Sales\"), \\\n",
    "         F.round(F.sum(\"JP_Sales\"), 2).alias(\"Total_JP_Sales\"), \\\n",
    "         F.round(F.sum(\"Global_Sales\"), 2).alias(\"Total_Global_Sales\"), \\\n",
    "         F.round(F.sum(\"Other_Sales\"), 2).alias(\"Total_Other_Sales\")) \\\n",
    "    .show(truncate = False)"
   ]
  },
  {
   "cell_type": "code",
   "execution_count": 29,
   "metadata": {},
   "outputs": [],
   "source": [
    "# Replace null values in the \"Critic_Score\" and \"User_Score\" columns with appropriate values\n",
    "\n",
    "updatedSchemaDF = updatedSchemaDF.na.fill({\"Critic_Score\" : 0, \\\n",
    "                         \"User_Score\" : 0, \\\n",
    "                         \"NA_Sales\" : 0, \\\n",
    "                         \"EU_Sales\" : 0, \\\n",
    "                         \"JP_Sales\" : 0, \\\n",
    "                         \"Other_Sales\" : 0, \\\n",
    "                         \"Global_Sales\" : 0, \\\n",
    "                         \"Critic_Count\" : 0, \\\n",
    "                         \"User_Count\" : 0, \\\n",
    "                         \"Developer\" : 'N/A', \\\n",
    "                         \"Rating\" : 'N/A', \\\n",
    "                         \"Publisher\" : 'N/A', \\\n",
    "                         \"Genre\" : 'N/A', \\\n",
    "                         \"Platform\" : 'N/A', \\\n",
    "})"
   ]
  },
  {
   "cell_type": "code",
   "execution_count": 30,
   "metadata": {},
   "outputs": [
    {
     "name": "stdout",
     "output_type": "stream",
     "text": [
      "+--------------------------------------------+--------+---------------+------------+----------------------+--------+--------+--------+-----------+------------+------------+------------+----------+----------+-------------------+------+\n",
      "|Name                                        |Platform|Year_of_Release|Genre       |Publisher             |NA_Sales|EU_Sales|JP_Sales|Other_Sales|Global_Sales|Critic_Score|Critic_Count|User_Score|User_Count|Developer          |Rating|\n",
      "+--------------------------------------------+--------+---------------+------------+----------------------+--------+--------+--------+-----------+------------+------------+------------+----------+----------+-------------------+------+\n",
      "|Wii Sports                                  |Wii     |2006           |Sports      |Nintendo              |41.36   |28.96   |3.77    |8.45       |82.53       |76.0        |51          |8.0       |322       |Nintendo           |E     |\n",
      "|Super Mario Bros.                           |NES     |1985           |Platform    |Nintendo              |29.08   |3.58    |6.81    |0.77       |40.24       |0.0         |0           |0.0       |0         |N/A                |N/A   |\n",
      "|Mario Kart Wii                              |Wii     |2008           |Racing      |Nintendo              |15.68   |12.76   |3.79    |3.29       |35.52       |82.0        |73          |8.3       |709       |Nintendo           |E     |\n",
      "|Wii Sports Resort                           |Wii     |2009           |Sports      |Nintendo              |15.61   |10.93   |3.28    |2.95       |32.77       |80.0        |73          |8.0       |192       |Nintendo           |E     |\n",
      "|Pokemon Red/Pokemon Blue                    |GB      |1996           |Role-Playing|Nintendo              |11.27   |8.89    |10.22   |1.0        |31.37       |0.0         |0           |0.0       |0         |N/A                |N/A   |\n",
      "|Tetris                                      |GB      |1989           |Puzzle      |Nintendo              |23.2    |2.26    |4.22    |0.58       |30.26       |0.0         |0           |0.0       |0         |N/A                |N/A   |\n",
      "|New Super Mario Bros.                       |DS      |2006           |Platform    |Nintendo              |11.28   |9.14    |6.5     |2.88       |29.8        |89.0        |65          |8.5       |431       |Nintendo           |E     |\n",
      "|Wii Play                                    |Wii     |2006           |Misc        |Nintendo              |13.96   |9.18    |2.93    |2.84       |28.92       |58.0        |41          |6.6       |129       |Nintendo           |E     |\n",
      "|New Super Mario Bros. Wii                   |Wii     |2009           |Platform    |Nintendo              |14.44   |6.94    |4.7     |2.24       |28.32       |87.0        |80          |8.4       |594       |Nintendo           |E     |\n",
      "|Duck Hunt                                   |NES     |1984           |Shooter     |Nintendo              |26.93   |0.63    |0.28    |0.47       |28.31       |0.0         |0           |0.0       |0         |N/A                |N/A   |\n",
      "|Nintendogs                                  |DS      |2005           |Simulation  |Nintendo              |9.05    |10.95   |1.93    |2.74       |24.67       |0.0         |0           |0.0       |0         |N/A                |N/A   |\n",
      "|Mario Kart DS                               |DS      |2005           |Racing      |Nintendo              |9.71    |7.47    |4.13    |1.9        |23.21       |91.0        |64          |8.6       |464       |Nintendo           |E     |\n",
      "|Pokemon Gold/Pokemon Silver                 |GB      |1999           |Role-Playing|Nintendo              |9.0     |6.18    |7.2     |0.71       |23.1        |0.0         |0           |0.0       |0         |N/A                |N/A   |\n",
      "|Wii Fit                                     |Wii     |2007           |Sports      |Nintendo              |8.92    |8.03    |3.6     |2.15       |22.7        |80.0        |63          |7.7       |146       |Nintendo           |E     |\n",
      "|Kinect Adventures!                          |X360    |2010           |Misc        |Microsoft Game Studios|15.0    |4.89    |0.24    |1.69       |21.81       |61.0        |45          |6.3       |106       |Good Science Studio|E     |\n",
      "|Wii Fit Plus                                |Wii     |2009           |Sports      |Nintendo              |9.01    |8.49    |2.53    |1.77       |21.79       |80.0        |33          |7.4       |52        |Nintendo           |E     |\n",
      "|Grand Theft Auto V                          |PS3     |2013           |Action      |Take-Two Interactive  |7.02    |9.09    |0.98    |3.96       |21.04       |97.0        |50          |8.2       |3994      |Rockstar North     |M     |\n",
      "|Grand Theft Auto: San Andreas               |PS2     |2004           |Action      |Take-Two Interactive  |9.43    |0.4     |0.41    |10.57      |20.81       |95.0        |80          |9.0       |1588      |Rockstar North     |M     |\n",
      "|Super Mario World                           |SNES    |1990           |Platform    |Nintendo              |12.78   |3.75    |3.54    |0.55       |20.61       |0.0         |0           |0.0       |0         |N/A                |N/A   |\n",
      "|Brain Age: Train Your Brain in Minutes a Day|DS      |2005           |Misc        |Nintendo              |4.74    |9.2     |4.16    |2.04       |20.15       |77.0        |58          |7.9       |50        |Nintendo           |E     |\n",
      "+--------------------------------------------+--------+---------------+------------+----------------------+--------+--------+--------+-----------+------------+------------+------------+----------+----------+-------------------+------+\n",
      "only showing top 20 rows\n",
      "\n"
     ]
    }
   ],
   "source": [
    "updatedSchemaDF.show(truncate=False)"
   ]
  },
  {
   "cell_type": "code",
   "execution_count": 34,
   "metadata": {},
   "outputs": [
    {
     "name": "stdout",
     "output_type": "stream",
     "text": [
      "+---------------------+\n",
      "|Total_Unique_Platform|\n",
      "+---------------------+\n",
      "|31                   |\n",
      "+---------------------+\n",
      "\n"
     ]
    }
   ],
   "source": [
    "# Get total number of the unique Gaming Platforms\n",
    "updatedSchemaDF \\\n",
    ".agg(F.countDistinct(\"Platform\").alias(\"Total_Unique_Platform\")) \\\n",
    ".show(truncate = False)"
   ]
  },
  {
   "cell_type": "code",
   "execution_count": 36,
   "metadata": {},
   "outputs": [
    {
     "name": "stdout",
     "output_type": "stream",
     "text": [
      "+--------+-----------+\n",
      "|Platform|Total_Users|\n",
      "+--------+-----------+\n",
      "|3DO     |0          |\n",
      "|PC      |473781     |\n",
      "|PS3     |180567     |\n",
      "|NES     |0          |\n",
      "|PS      |11964      |\n",
      "|DC      |1183       |\n",
      "|GEN     |0          |\n",
      "|PS2     |54186      |\n",
      "|3DS     |16041      |\n",
      "|PCFX    |0          |\n",
      "|GG      |0          |\n",
      "|WiiU    |22381      |\n",
      "|SNES    |0          |\n",
      "|GB      |0          |\n",
      "|SCD     |0          |\n",
      "|N64     |0          |\n",
      "|PS4     |133166     |\n",
      "|PSP     |12808      |\n",
      "|2600    |0          |\n",
      "|XOne    |52010      |\n",
      "|X360    |180793     |\n",
      "|GBA     |5856       |\n",
      "|WS      |0          |\n",
      "|Wii     |29749      |\n",
      "|GC      |13084      |\n",
      "|PSV     |13776      |\n",
      "|XB      |14216      |\n",
      "|DS      |15764      |\n",
      "|TG16    |0          |\n",
      "|NG      |0          |\n",
      "|SAT     |0          |\n",
      "+--------+-----------+\n",
      "\n"
     ]
    }
   ],
   "source": [
    "#Generate a dataframe - Find total users per gaming platform \n",
    "totalUserPerPlatform = updatedSchemaDF.groupBy(\"Platform\") \\\n",
    ".agg(F.sum(\"User_Count\").alias(\"Total_Users\")) \\\n",
    "\n",
    "totalUserPerPlatform.show(100, truncate = False)"
   ]
  },
  {
   "cell_type": "code",
   "execution_count": 39,
   "metadata": {},
   "outputs": [
    {
     "name": "stdout",
     "output_type": "stream",
     "text": [
      "+------------------------------+--------------+\n",
      "|Name                          |Top10_NA_Sales|\n",
      "+------------------------------+--------------+\n",
      "|Wii Sports                    |41.36         |\n",
      "|Super Mario Bros.             |32.48         |\n",
      "|Duck Hunt                     |26.93         |\n",
      "|Tetris                        |26.17         |\n",
      "|Grand Theft Auto V            |23.84         |\n",
      "|Call of Duty: Black Ops       |17.57         |\n",
      "|Super Mario World             |15.99         |\n",
      "|Mario Kart Wii                |15.68         |\n",
      "|Wii Sports Resort             |15.61         |\n",
      "|Call of Duty: Modern Warfare 3|15.54         |\n",
      "+------------------------------+--------------+\n",
      "only showing top 10 rows\n",
      "\n"
     ]
    }
   ],
   "source": [
    "# Identify the top-selling games globally and regionally (NA, EU, JP, Globally, Other) - Top 10.\n",
    "# 1. NA_Sales\n",
    "\n",
    "updatedSchemaDF.groupBy(\"Name\") \\\n",
    ".agg(F.round(F.sum(\"NA_Sales\"), 2).alias(\"Top10_NA_Sales\")) \\\n",
    ".orderBy(F.desc(\"Top10_NA_Sales\")) \\\n",
    ".show(10, truncate = False)"
   ]
  },
  {
   "cell_type": "code",
   "execution_count": 40,
   "metadata": {},
   "outputs": [
    {
     "name": "stdout",
     "output_type": "stream",
     "text": [
      "+------------------------------+--------------+\n",
      "|Name                          |Top10_EU_Sales|\n",
      "+------------------------------+--------------+\n",
      "|Wii Sports                    |28.96         |\n",
      "|Grand Theft Auto V            |23.42         |\n",
      "|Mario Kart Wii                |12.76         |\n",
      "|FIFA 15                       |12.02         |\n",
      "|Call of Duty: Modern Warfare 3|11.15         |\n",
      "|FIFA 16                       |11.09         |\n",
      "|FIFA 14                       |10.96         |\n",
      "|Nintendogs                    |10.95         |\n",
      "|Wii Sports Resort             |10.93         |\n",
      "|Call of Duty: Black Ops II    |10.84         |\n",
      "+------------------------------+--------------+\n",
      "only showing top 10 rows\n",
      "\n"
     ]
    }
   ],
   "source": [
    "# 2. EU_Sales\n",
    "\n",
    "updatedSchemaDF.groupBy(\"Name\") \\\n",
    ".agg(F.round(F.sum(\"EU_Sales\"), 2).alias(\"Top10_EU_Sales\")) \\\n",
    ".orderBy(F.desc(\"Top10_EU_Sales\")) \\\n",
    ".show(10, truncate = False)"
   ]
  },
  {
   "cell_type": "code",
   "execution_count": 41,
   "metadata": {},
   "outputs": [
    {
     "name": "stdout",
     "output_type": "stream",
     "text": [
      "+----------------------------------+--------------+\n",
      "|Name                              |Top10_JP_Sales|\n",
      "+----------------------------------+--------------+\n",
      "|Pokemon Red/Pokemon Blue          |10.22         |\n",
      "|Pokemon Gold/Pokemon Silver       |7.2           |\n",
      "|Super Mario Bros.                 |6.96          |\n",
      "|New Super Mario Bros.             |6.5           |\n",
      "|Pokemon Diamond/Pokemon Pearl     |6.04          |\n",
      "|Tetris                            |6.03          |\n",
      "|Pokemon Black/Pokemon White       |5.65          |\n",
      "|Dragon Quest VII: Warriors of Eden|5.4           |\n",
      "|Pokemon Ruby/Pokemon Sapphire     |5.38          |\n",
      "|Animal Crossing: Wild World       |5.33          |\n",
      "+----------------------------------+--------------+\n",
      "only showing top 10 rows\n",
      "\n"
     ]
    }
   ],
   "source": [
    "# 3. JP_Sales\n",
    "\n",
    "updatedSchemaDF.groupBy(\"Name\") \\\n",
    ".agg(F.round(F.sum(\"JP_Sales\"), 2).alias(\"Top10_JP_Sales\")) \\\n",
    ".orderBy(F.desc(\"Top10_JP_Sales\")) \\\n",
    ".show(10, truncate = False)"
   ]
  },
  {
   "cell_type": "code",
   "execution_count": 42,
   "metadata": {},
   "outputs": [
    {
     "name": "stdout",
     "output_type": "stream",
     "text": [
      "+------------------------------+------------------+\n",
      "|Name                          |Top10_Global_Sales|\n",
      "+------------------------------+------------------+\n",
      "|Wii Sports                    |82.53             |\n",
      "|Grand Theft Auto V            |56.57             |\n",
      "|Super Mario Bros.             |45.31             |\n",
      "|Tetris                        |35.84             |\n",
      "|Mario Kart Wii                |35.52             |\n",
      "|Wii Sports Resort             |32.77             |\n",
      "|Pokemon Red/Pokemon Blue      |31.37             |\n",
      "|Call of Duty: Black Ops       |30.82             |\n",
      "|Call of Duty: Modern Warfare 3|30.59             |\n",
      "|New Super Mario Bros.         |29.8              |\n",
      "+------------------------------+------------------+\n",
      "only showing top 10 rows\n",
      "\n"
     ]
    }
   ],
   "source": [
    "# 4. Global_Sales\n",
    "\n",
    "updatedSchemaDF.groupBy(\"Name\") \\\n",
    ".agg(F.round(F.sum(\"Global_Sales\"), 2).alias(\"Top10_Global_Sales\")) \\\n",
    ".orderBy(F.desc(\"Top10_Global_Sales\")) \\\n",
    ".show(10, truncate = False)"
   ]
  },
  {
   "cell_type": "code",
   "execution_count": 43,
   "metadata": {},
   "outputs": [
    {
     "name": "stdout",
     "output_type": "stream",
     "text": [
      "+------------------------------+-----------------+\n",
      "|Name                          |Top10_Other_Sales|\n",
      "+------------------------------+-----------------+\n",
      "|Grand Theft Auto: San Andreas |10.71            |\n",
      "|Wii Sports                    |8.45             |\n",
      "|Grand Theft Auto V            |7.9              |\n",
      "|Gran Turismo 4                |7.53             |\n",
      "|Call of Duty: Black Ops II    |3.76             |\n",
      "|FIFA Soccer 08                |3.52             |\n",
      "|Pro Evolution Soccer 2008     |3.51             |\n",
      "|Call of Duty: Black Ops 3     |3.49             |\n",
      "|Call of Duty: Black Ops       |3.31             |\n",
      "|Call of Duty: Modern Warfare 3|3.29             |\n",
      "+------------------------------+-----------------+\n",
      "only showing top 10 rows\n",
      "\n"
     ]
    }
   ],
   "source": [
    "# 5. Other_Sales\n",
    "\n",
    "updatedSchemaDF.groupBy(\"Name\") \\\n",
    ".agg(F.round(F.sum(\"Other_Sales\"), 2).alias(\"Top10_Other_Sales\")) \\\n",
    ".orderBy(F.desc(\"Top10_Other_Sales\")) \\\n",
    ".show(10, truncate = False)"
   ]
  },
  {
   "cell_type": "code",
   "execution_count": 61,
   "metadata": {},
   "outputs": [],
   "source": [
    "# Popular Genres:Identify which genres are the most popular based on sales.\n",
    "\n",
    "cols_to_sum = ['NA_Sales', 'EU_Sales', 'JP_Sales', 'Global_Sales', 'Other_Sales']\n",
    "popularGenreDF = updatedSchemaDF \\\n",
    "                    .withColumn(\"Total_Sales\", F.expr('+'.join(cols_to_sum)))"
   ]
  },
  {
   "cell_type": "code",
   "execution_count": 70,
   "metadata": {},
   "outputs": [
    {
     "name": "stdout",
     "output_type": "stream",
     "text": [
      "+------------+-----------+\n",
      "|Genre       |Total_Sales|\n",
      "+------------+-----------+\n",
      "|Sports      |165.06999  |\n",
      "|Platform    |80.48      |\n",
      "|Racing      |71.04      |\n",
      "|Sports      |65.54      |\n",
      "|Role-Playing|62.75      |\n",
      "|Puzzle      |60.520004  |\n",
      "|Platform    |59.600002  |\n",
      "|Misc        |57.829998  |\n",
      "|Platform    |56.64      |\n",
      "|Shooter     |56.620003  |\n",
      "|Simulation  |49.34      |\n",
      "|Racing      |46.420002  |\n",
      "|Role-Playing|46.190002  |\n",
      "|Sports      |45.4       |\n",
      "|Misc        |43.629997  |\n",
      "|Sports      |43.59      |\n",
      "|Action      |42.09      |\n",
      "|Action      |41.62      |\n",
      "|Platform    |41.23      |\n",
      "|Misc        |40.29      |\n",
      "|Role-Playing|36.49      |\n",
      "|Platform    |36.28      |\n",
      "|Platform    |34.559998  |\n",
      "|Action      |32.54      |\n",
      "|Action      |32.3       |\n",
      "|Role-Playing|31.69      |\n",
      "|Puzzle      |30.57      |\n",
      "|Role-Playing|30.27      |\n",
      "|Racing      |29.95      |\n",
      "|Shooter     |29.46      |\n",
      "|Role-Playing|29.28      |\n",
      "|Shooter     |29.260002  |\n",
      "|Shooter     |29.229998  |\n",
      "|Role-Playing|29.2       |\n",
      "|Shooter     |27.58      |\n",
      "|Shooter     |27.35      |\n",
      "|Shooter     |26.94      |\n",
      "|Shooter     |26.65      |\n",
      "|Action      |26.2       |\n",
      "|Fighting    |25.68      |\n",
      "|Racing      |25.31      |\n",
      "|Shooter     |25.259998  |\n",
      "|Action      |25.23      |\n",
      "|Simulation  |24.27      |\n",
      "|Shooter     |24.239998  |\n",
      "|Platform    |23.79      |\n",
      "|Action      |23.54      |\n",
      "|Role-Playing|23.36      |\n",
      "|Racing      |23.31      |\n",
      "|Platform    |22.699999  |\n",
      "|Adventure   |22.36      |\n",
      "|Action      |22.01      |\n",
      "|Racing      |21.900002  |\n",
      "|Platform    |21.62      |\n",
      "|Racing      |21.400002  |\n",
      "|Shooter     |21.210001  |\n",
      "|Platform    |21.1       |\n",
      "|Action      |21.0       |\n",
      "|Role-Playing|20.980001  |\n",
      "|Platform    |20.6       |\n",
      "|Shooter     |20.49      |\n",
      "|Misc        |20.24      |\n",
      "|Platform    |19.8       |\n",
      "|Racing      |19.74      |\n",
      "|Shooter     |19.720001  |\n",
      "|Role-Playing|19.439999  |\n",
      "|Shooter     |19.42      |\n",
      "|Racing      |18.98      |\n",
      "|Misc        |18.88      |\n",
      "|Shooter     |18.72      |\n",
      "|Shooter     |18.63      |\n",
      "|Platform    |18.599998  |\n",
      "|Misc        |18.36      |\n",
      "|Simulation  |18.329998  |\n",
      "|Misc        |17.82      |\n",
      "|Role-Playing|17.58      |\n",
      "|Racing      |17.53      |\n",
      "|Sports      |17.15      |\n",
      "|Shooter     |16.97      |\n",
      "|Misc        |16.76      |\n",
      "|Misc        |16.53      |\n",
      "|Action      |16.33      |\n",
      "|Shooter     |16.18      |\n",
      "|Role-Playing|16.130001  |\n",
      "|Role-Playing|16.09      |\n",
      "|Simulation  |16.02      |\n",
      "|Sports      |15.99      |\n",
      "|Shooter     |15.96      |\n",
      "|Role-Playing|15.719999  |\n",
      "|Puzzle      |15.62      |\n",
      "|Role-Playing|15.429999  |\n",
      "|Action      |15.369999  |\n",
      "|Shooter     |15.32      |\n",
      "|Action      |15.199999  |\n",
      "|Sports      |15.19      |\n",
      "|Platform    |15.150001  |\n",
      "|Fighting    |15.099999  |\n",
      "|Platform    |15.0199995 |\n",
      "|Platform    |14.919999  |\n",
      "|Shooter     |14.780001  |\n",
      "+------------+-----------+\n",
      "only showing top 100 rows\n",
      "\n"
     ]
    }
   ],
   "source": [
    "popularGenreDF.select(\"Genre\", \"Total_Sales\") \\\n",
    ".orderBy(F.desc(\"Total_Sales\")) \\\n",
    ".show(100, truncate = False)"
   ]
  },
  {
   "cell_type": "code",
   "execution_count": null,
   "metadata": {},
   "outputs": [],
   "source": []
  }
 ],
 "metadata": {
  "kernelspec": {
   "display_name": ".venv",
   "language": "python",
   "name": "python3"
  },
  "language_info": {
   "codemirror_mode": {
    "name": "ipython",
    "version": 3
   },
   "file_extension": ".py",
   "mimetype": "text/x-python",
   "name": "python",
   "nbconvert_exporter": "python",
   "pygments_lexer": "ipython3",
   "version": "3.12.3"
  }
 },
 "nbformat": 4,
 "nbformat_minor": 2
}
