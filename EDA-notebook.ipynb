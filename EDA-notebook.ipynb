{
 "cells": [
  {
   "cell_type": "code",
   "execution_count": 1,
   "metadata": {},
   "outputs": [
    {
     "name": "stdout",
     "output_type": "stream",
     "text": [
      "Hello!\n"
     ]
    }
   ],
   "source": [
    "print(\"Hello!\")"
   ]
  },
  {
   "cell_type": "code",
   "execution_count": 10,
   "metadata": {},
   "outputs": [],
   "source": [
    "%%sh \n",
    "\n",
    "pip freeze > requirements.txt"
   ]
  },
  {
   "cell_type": "code",
   "execution_count": 9,
   "metadata": {},
   "outputs": [
    {
     "name": "stdout",
     "output_type": "stream",
     "text": [
      "Requirement already satisfied: pyspark in ./.venv/lib/python3.12/site-packages (3.5.2)\n",
      "Collecting pandas\n",
      "  Using cached pandas-2.2.2-cp312-cp312-manylinux_2_17_x86_64.manylinux2014_x86_64.whl.metadata (19 kB)\n",
      "Requirement already satisfied: py4j==0.10.9.7 in ./.venv/lib/python3.12/site-packages (from pyspark) (0.10.9.7)\n",
      "Collecting numpy>=1.26.0 (from pandas)\n",
      "  Using cached numpy-2.1.1-cp312-cp312-manylinux_2_17_x86_64.manylinux2014_x86_64.whl.metadata (60 kB)\n",
      "Requirement already satisfied: python-dateutil>=2.8.2 in ./.venv/lib/python3.12/site-packages (from pandas) (2.9.0.post0)\n",
      "Collecting pytz>=2020.1 (from pandas)\n",
      "  Using cached pytz-2024.1-py2.py3-none-any.whl.metadata (22 kB)\n",
      "Collecting tzdata>=2022.7 (from pandas)\n",
      "  Using cached tzdata-2024.1-py2.py3-none-any.whl.metadata (1.4 kB)\n",
      "Requirement already satisfied: six>=1.5 in ./.venv/lib/python3.12/site-packages (from python-dateutil>=2.8.2->pandas) (1.16.0)\n",
      "Using cached pandas-2.2.2-cp312-cp312-manylinux_2_17_x86_64.manylinux2014_x86_64.whl (12.7 MB)\n",
      "Using cached numpy-2.1.1-cp312-cp312-manylinux_2_17_x86_64.manylinux2014_x86_64.whl (16.0 MB)\n",
      "Using cached pytz-2024.1-py2.py3-none-any.whl (505 kB)\n",
      "Using cached tzdata-2024.1-py2.py3-none-any.whl (345 kB)\n",
      "Installing collected packages: pytz, tzdata, numpy, pandas\n",
      "Successfully installed numpy-2.1.1 pandas-2.2.2 pytz-2024.1 tzdata-2024.1\n"
     ]
    }
   ],
   "source": [
    "%%sh \n",
    "\n",
    "pip install pyspark pandas"
   ]
  },
  {
   "cell_type": "code",
   "execution_count": 11,
   "metadata": {},
   "outputs": [
    {
     "name": "stdout",
     "output_type": "stream",
     "text": [
      "Requirement already satisfied: asttokens==2.4.1 in ./.venv/lib/python3.12/site-packages (from -r requirements.txt (line 1)) (2.4.1)\n",
      "Requirement already satisfied: comm==0.2.2 in ./.venv/lib/python3.12/site-packages (from -r requirements.txt (line 2)) (0.2.2)\n",
      "Requirement already satisfied: debugpy==1.8.5 in ./.venv/lib/python3.12/site-packages (from -r requirements.txt (line 3)) (1.8.5)\n",
      "Requirement already satisfied: decorator==5.1.1 in ./.venv/lib/python3.12/site-packages (from -r requirements.txt (line 4)) (5.1.1)\n",
      "Requirement already satisfied: executing==2.1.0 in ./.venv/lib/python3.12/site-packages (from -r requirements.txt (line 5)) (2.1.0)\n",
      "Requirement already satisfied: ipykernel==6.29.5 in ./.venv/lib/python3.12/site-packages (from -r requirements.txt (line 6)) (6.29.5)\n",
      "Requirement already satisfied: ipython==8.27.0 in ./.venv/lib/python3.12/site-packages (from -r requirements.txt (line 7)) (8.27.0)\n",
      "Requirement already satisfied: jedi==0.19.1 in ./.venv/lib/python3.12/site-packages (from -r requirements.txt (line 8)) (0.19.1)\n",
      "Requirement already satisfied: jupyter_client==8.6.2 in ./.venv/lib/python3.12/site-packages (from -r requirements.txt (line 9)) (8.6.2)\n",
      "Requirement already satisfied: jupyter_core==5.7.2 in ./.venv/lib/python3.12/site-packages (from -r requirements.txt (line 10)) (5.7.2)\n",
      "Requirement already satisfied: matplotlib-inline==0.1.7 in ./.venv/lib/python3.12/site-packages (from -r requirements.txt (line 11)) (0.1.7)\n",
      "Requirement already satisfied: nest-asyncio==1.6.0 in ./.venv/lib/python3.12/site-packages (from -r requirements.txt (line 12)) (1.6.0)\n",
      "Requirement already satisfied: numpy==2.1.1 in ./.venv/lib/python3.12/site-packages (from -r requirements.txt (line 13)) (2.1.1)\n",
      "Requirement already satisfied: packaging==24.1 in ./.venv/lib/python3.12/site-packages (from -r requirements.txt (line 14)) (24.1)\n",
      "Requirement already satisfied: pandas==2.2.2 in ./.venv/lib/python3.12/site-packages (from -r requirements.txt (line 15)) (2.2.2)\n",
      "Requirement already satisfied: parso==0.8.4 in ./.venv/lib/python3.12/site-packages (from -r requirements.txt (line 16)) (0.8.4)\n",
      "Requirement already satisfied: pexpect==4.9.0 in ./.venv/lib/python3.12/site-packages (from -r requirements.txt (line 17)) (4.9.0)\n",
      "Requirement already satisfied: platformdirs==4.3.1 in ./.venv/lib/python3.12/site-packages (from -r requirements.txt (line 18)) (4.3.1)\n",
      "Requirement already satisfied: prompt_toolkit==3.0.47 in ./.venv/lib/python3.12/site-packages (from -r requirements.txt (line 19)) (3.0.47)\n",
      "Requirement already satisfied: psutil==6.0.0 in ./.venv/lib/python3.12/site-packages (from -r requirements.txt (line 20)) (6.0.0)\n",
      "Requirement already satisfied: ptyprocess==0.7.0 in ./.venv/lib/python3.12/site-packages (from -r requirements.txt (line 21)) (0.7.0)\n",
      "Requirement already satisfied: pure_eval==0.2.3 in ./.venv/lib/python3.12/site-packages (from -r requirements.txt (line 22)) (0.2.3)\n",
      "Requirement already satisfied: py4j==0.10.9.7 in ./.venv/lib/python3.12/site-packages (from -r requirements.txt (line 23)) (0.10.9.7)\n",
      "Requirement already satisfied: Pygments==2.18.0 in ./.venv/lib/python3.12/site-packages (from -r requirements.txt (line 24)) (2.18.0)\n",
      "Requirement already satisfied: pyspark==3.5.2 in ./.venv/lib/python3.12/site-packages (from -r requirements.txt (line 25)) (3.5.2)\n",
      "Requirement already satisfied: python-dateutil==2.9.0.post0 in ./.venv/lib/python3.12/site-packages (from -r requirements.txt (line 26)) (2.9.0.post0)\n",
      "Requirement already satisfied: pytz==2024.1 in ./.venv/lib/python3.12/site-packages (from -r requirements.txt (line 27)) (2024.1)\n",
      "Requirement already satisfied: pyzmq==26.2.0 in ./.venv/lib/python3.12/site-packages (from -r requirements.txt (line 28)) (26.2.0)\n",
      "Requirement already satisfied: six==1.16.0 in ./.venv/lib/python3.12/site-packages (from -r requirements.txt (line 29)) (1.16.0)\n",
      "Requirement already satisfied: stack-data==0.6.3 in ./.venv/lib/python3.12/site-packages (from -r requirements.txt (line 30)) (0.6.3)\n",
      "Requirement already satisfied: tornado==6.4.1 in ./.venv/lib/python3.12/site-packages (from -r requirements.txt (line 31)) (6.4.1)\n",
      "Requirement already satisfied: traitlets==5.14.3 in ./.venv/lib/python3.12/site-packages (from -r requirements.txt (line 32)) (5.14.3)\n",
      "Requirement already satisfied: tzdata==2024.1 in ./.venv/lib/python3.12/site-packages (from -r requirements.txt (line 33)) (2024.1)\n",
      "Requirement already satisfied: wcwidth==0.2.13 in ./.venv/lib/python3.12/site-packages (from -r requirements.txt (line 34)) (0.2.13)\n"
     ]
    }
   ],
   "source": [
    "%%sh \n",
    "\n",
    "pip install -r requirements.txt"
   ]
  },
  {
   "cell_type": "code",
   "execution_count": 2,
   "metadata": {},
   "outputs": [],
   "source": [
    "from os.path import abspath\n",
    "\n",
    "from pyspark.sql import SparkSession\n",
    "from pyspark.sql import Row"
   ]
  },
  {
   "cell_type": "code",
   "execution_count": 3,
   "metadata": {},
   "outputs": [],
   "source": [
    "# warehouse_location points to the default location for managed databases and tables\n",
    "warehouse_location = abspath('spark-warehouse')"
   ]
  },
  {
   "cell_type": "code",
   "execution_count": 4,
   "metadata": {},
   "outputs": [
    {
     "name": "stderr",
     "output_type": "stream",
     "text": [
      "24/09/08 12:53:52 WARN Utils: Your hostname, riddhi-pc resolves to a loopback address: 127.0.1.1; using 10.0.2.15 instead (on interface enp0s3)\n",
      "24/09/08 12:53:52 WARN Utils: Set SPARK_LOCAL_IP if you need to bind to another address\n",
      "Setting default log level to \"WARN\".\n",
      "To adjust logging level use sc.setLogLevel(newLevel). For SparkR, use setLogLevel(newLevel).\n",
      "24/09/08 12:53:55 WARN NativeCodeLoader: Unable to load native-hadoop library for your platform... using builtin-java classes where applicable\n"
     ]
    }
   ],
   "source": [
    "spark = SparkSession \\\n",
    "    .builder \\\n",
    "    .appName(\"VideoGameEDA\") \\\n",
    "    .config(\"spark.sql.warehouse.dir\", warehouse_location) \\\n",
    "    .enableHiveSupport() \\\n",
    "    .getOrCreate()"
   ]
  },
  {
   "cell_type": "code",
   "execution_count": 5,
   "metadata": {},
   "outputs": [
    {
     "data": {
      "text/html": [
       "\n",
       "            <div>\n",
       "                <p><b>SparkSession - hive</b></p>\n",
       "                \n",
       "        <div>\n",
       "            <p><b>SparkContext</b></p>\n",
       "\n",
       "            <p><a href=\"http://10.0.2.15:4040\">Spark UI</a></p>\n",
       "\n",
       "            <dl>\n",
       "              <dt>Version</dt>\n",
       "                <dd><code>v3.5.2</code></dd>\n",
       "              <dt>Master</dt>\n",
       "                <dd><code>local[*]</code></dd>\n",
       "              <dt>AppName</dt>\n",
       "                <dd><code>VideoGameEDA</code></dd>\n",
       "            </dl>\n",
       "        </div>\n",
       "        \n",
       "            </div>\n",
       "        "
      ],
      "text/plain": [
       "<pyspark.sql.session.SparkSession at 0x7cdabe97cc50>"
      ]
     },
     "execution_count": 5,
     "metadata": {},
     "output_type": "execute_result"
    },
    {
     "name": "stderr",
     "output_type": "stream",
     "text": [
      "24/09/08 12:54:12 WARN GarbageCollectionMetrics: To enable non-built-in garbage collector(s) List(G1 Concurrent GC), users should configure it(them) to spark.eventLog.gcMetrics.youngGenerationGarbageCollectors or spark.eventLog.gcMetrics.oldGenerationGarbageCollectors\n"
     ]
    }
   ],
   "source": [
    "spark"
   ]
  },
  {
   "cell_type": "code",
   "execution_count": 86,
   "metadata": {},
   "outputs": [],
   "source": [
    "csvDF = spark.read.options(header=True).csv('Datasets/Video_Games.csv')"
   ]
  },
  {
   "cell_type": "code",
   "execution_count": 22,
   "metadata": {},
   "outputs": [
    {
     "name": "stdout",
     "output_type": "stream",
     "text": [
      "+--------------------+--------+---------------+------------+---------+--------+--------+--------+-----------+------------+------------+------------+----------+----------+---------+------+\n",
      "|                Name|Platform|Year_of_Release|       Genre|Publisher|NA_Sales|EU_Sales|JP_Sales|Other_Sales|Global_Sales|Critic_Score|Critic_Count|User_Score|User_Count|Developer|Rating|\n",
      "+--------------------+--------+---------------+------------+---------+--------+--------+--------+-----------+------------+------------+------------+----------+----------+---------+------+\n",
      "|          Wii Sports|     Wii|           2006|      Sports| Nintendo|   41.36|   28.96|    3.77|       8.45|       82.53|          76|          51|         8|       322| Nintendo|     E|\n",
      "|   Super Mario Bros.|     NES|           1985|    Platform| Nintendo|   29.08|    3.58|    6.81|       0.77|       40.24|        NULL|        NULL|      NULL|      NULL|     NULL|  NULL|\n",
      "|      Mario Kart Wii|     Wii|           2008|      Racing| Nintendo|   15.68|   12.76|    3.79|       3.29|       35.52|          82|          73|       8.3|       709| Nintendo|     E|\n",
      "|   Wii Sports Resort|     Wii|           2009|      Sports| Nintendo|   15.61|   10.93|    3.28|       2.95|       32.77|          80|          73|         8|       192| Nintendo|     E|\n",
      "|Pokemon Red/Pokem...|      GB|           1996|Role-Playing| Nintendo|   11.27|    8.89|   10.22|          1|       31.37|        NULL|        NULL|      NULL|      NULL|     NULL|  NULL|\n",
      "+--------------------+--------+---------------+------------+---------+--------+--------+--------+-----------+------------+------------+------------+----------+----------+---------+------+\n",
      "only showing top 5 rows\n",
      "\n"
     ]
    }
   ],
   "source": [
    "csvDF.show(5)"
   ]
  },
  {
   "cell_type": "code",
   "execution_count": 93,
   "metadata": {},
   "outputs": [
    {
     "name": "stderr",
     "output_type": "stream",
     "text": [
      "                                                                                \r"
     ]
    }
   ],
   "source": [
    "# 1. we can create table using above dataframe\n",
    "csvDF.write.mode('overwrite').saveAsTable(\"videogame_eda_tbl\")"
   ]
  },
  {
   "cell_type": "code",
   "execution_count": 117,
   "metadata": {},
   "outputs": [
    {
     "name": "stdout",
     "output_type": "stream",
     "text": [
      "+--------------------------------------------+--------+---------------+------------+----------------------+--------+--------+--------+-----------+------------+------------+------------+----------+----------+-------------------+------+\n",
      "|Name                                        |Platform|Year_of_Release|Genre       |Publisher             |NA_Sales|EU_Sales|JP_Sales|Other_Sales|Global_Sales|Critic_Score|Critic_Count|User_Score|User_Count|Developer          |Rating|\n",
      "+--------------------------------------------+--------+---------------+------------+----------------------+--------+--------+--------+-----------+------------+------------+------------+----------+----------+-------------------+------+\n",
      "|Wii Sports                                  |Wii     |2006           |Sports      |Nintendo              |41.36   |28.96   |3.77    |8.45       |82.53       |76          |51          |8         |322       |Nintendo           |E     |\n",
      "|Super Mario Bros.                           |NES     |1985           |Platform    |Nintendo              |29.08   |3.58    |6.81    |0.77       |40.24       |NULL        |NULL        |NULL      |NULL      |NULL               |NULL  |\n",
      "|Mario Kart Wii                              |Wii     |2008           |Racing      |Nintendo              |15.68   |12.76   |3.79    |3.29       |35.52       |82          |73          |8.3       |709       |Nintendo           |E     |\n",
      "|Wii Sports Resort                           |Wii     |2009           |Sports      |Nintendo              |15.61   |10.93   |3.28    |2.95       |32.77       |80          |73          |8         |192       |Nintendo           |E     |\n",
      "|Pokemon Red/Pokemon Blue                    |GB      |1996           |Role-Playing|Nintendo              |11.27   |8.89    |10.22   |1          |31.37       |NULL        |NULL        |NULL      |NULL      |NULL               |NULL  |\n",
      "|Tetris                                      |GB      |1989           |Puzzle      |Nintendo              |23.2    |2.26    |4.22    |0.58       |30.26       |NULL        |NULL        |NULL      |NULL      |NULL               |NULL  |\n",
      "|New Super Mario Bros.                       |DS      |2006           |Platform    |Nintendo              |11.28   |9.14    |6.5     |2.88       |29.8        |89          |65          |8.5       |431       |Nintendo           |E     |\n",
      "|Wii Play                                    |Wii     |2006           |Misc        |Nintendo              |13.96   |9.18    |2.93    |2.84       |28.92       |58          |41          |6.6       |129       |Nintendo           |E     |\n",
      "|New Super Mario Bros. Wii                   |Wii     |2009           |Platform    |Nintendo              |14.44   |6.94    |4.7     |2.24       |28.32       |87          |80          |8.4       |594       |Nintendo           |E     |\n",
      "|Duck Hunt                                   |NES     |1984           |Shooter     |Nintendo              |26.93   |0.63    |0.28    |0.47       |28.31       |NULL        |NULL        |NULL      |NULL      |NULL               |NULL  |\n",
      "|Nintendogs                                  |DS      |2005           |Simulation  |Nintendo              |9.05    |10.95   |1.93    |2.74       |24.67       |NULL        |NULL        |NULL      |NULL      |NULL               |NULL  |\n",
      "|Mario Kart DS                               |DS      |2005           |Racing      |Nintendo              |9.71    |7.47    |4.13    |1.9        |23.21       |91          |64          |8.6       |464       |Nintendo           |E     |\n",
      "|Pokemon Gold/Pokemon Silver                 |GB      |1999           |Role-Playing|Nintendo              |9       |6.18    |7.2     |0.71       |23.1        |NULL        |NULL        |NULL      |NULL      |NULL               |NULL  |\n",
      "|Wii Fit                                     |Wii     |2007           |Sports      |Nintendo              |8.92    |8.03    |3.6     |2.15       |22.7        |80          |63          |7.7       |146       |Nintendo           |E     |\n",
      "|Kinect Adventures!                          |X360    |2010           |Misc        |Microsoft Game Studios|15      |4.89    |0.24    |1.69       |21.81       |61          |45          |6.3       |106       |Good Science Studio|E     |\n",
      "|Wii Fit Plus                                |Wii     |2009           |Sports      |Nintendo              |9.01    |8.49    |2.53    |1.77       |21.79       |80          |33          |7.4       |52        |Nintendo           |E     |\n",
      "|Grand Theft Auto V                          |PS3     |2013           |Action      |Take-Two Interactive  |7.02    |9.09    |0.98    |3.96       |21.04       |97          |50          |8.2       |3994      |Rockstar North     |M     |\n",
      "|Grand Theft Auto: San Andreas               |PS2     |2004           |Action      |Take-Two Interactive  |9.43    |0.4     |0.41    |10.57      |20.81       |95          |80          |9         |1588      |Rockstar North     |M     |\n",
      "|Super Mario World                           |SNES    |1990           |Platform    |Nintendo              |12.78   |3.75    |3.54    |0.55       |20.61       |NULL        |NULL        |NULL      |NULL      |NULL               |NULL  |\n",
      "|Brain Age: Train Your Brain in Minutes a Day|DS      |2005           |Misc        |Nintendo              |4.74    |9.2     |4.16    |2.04       |20.15       |77          |58          |7.9       |50        |Nintendo           |E     |\n",
      "+--------------------------------------------+--------+---------------+------------+----------------------+--------+--------+--------+-----------+------------+------------+------------+----------+----------+-------------------+------+\n",
      "only showing top 20 rows\n",
      "\n"
     ]
    }
   ],
   "source": [
    "spark.read.table(\"videogame_eda_tbl\").show(truncate=False)"
   ]
  },
  {
   "cell_type": "code",
   "execution_count": 92,
   "metadata": {},
   "outputs": [
    {
     "data": {
      "text/plain": [
       "DataFrame[]"
      ]
     },
     "execution_count": 92,
     "metadata": {},
     "output_type": "execute_result"
    }
   ],
   "source": [
    "# drop table\n",
    "spark.sql(\"DROP TABLE videogame_eda_tbl\")"
   ]
  },
  {
   "cell_type": "code",
   "execution_count": 78,
   "metadata": {},
   "outputs": [
    {
     "name": "stderr",
     "output_type": "stream",
     "text": [
      "24/09/08 13:43:48 WARN HiveMetaStore: Location: file:/home/riddhipc/Documents/learning/github-projects/videogame-EDA/spark-warehouse/videogame_eda_tbl specified for non-external table:videogame_eda_tbl\n"
     ]
    },
    {
     "data": {
      "text/plain": [
       "DataFrame[]"
      ]
     },
     "execution_count": 78,
     "metadata": {},
     "output_type": "execute_result"
    }
   ],
   "source": [
    "# 2. creat table using Hive (It'll be automatically created in Hive Warehouse)\n",
    "spark.sql(\"\"\"CREATE TABLE IF NOT EXISTS videogame_eda_tbl\n",
    "          (Name VARCHAR(50), Platform VARCHAR(10), \n",
    "            Year_of_Release INT, Genre VARCHAR(20),\n",
    "            Publisher VARCHAR(20), NA_Sales FLOAT,\n",
    "            EU_Sales FLOAT, JP_Sales FLOAT,\n",
    "            Other_Sales FLOAT, Global_Sales FLOAT,\n",
    "            Critic_Score FLOAT, Critic_Count INT,\n",
    "            User_Score FLOAT, User_Count INT,\n",
    "            Developer VARCHAR(20), Rating VARCHAR(10)\n",
    "          ) \n",
    "          ROW FORMAT DELIMITED \n",
    "          FIELDS TERMINATED BY ','\n",
    "          TBLPROPERTIES ('skip.header.line.count'='1')\n",
    "          \"\"\")"
   ]
  },
  {
   "cell_type": "code",
   "execution_count": 79,
   "metadata": {},
   "outputs": [
    {
     "name": "stdout",
     "output_type": "stream",
     "text": [
      "+---------------+-----------+-------+\n",
      "|       col_name|  data_type|comment|\n",
      "+---------------+-----------+-------+\n",
      "|           Name|varchar(50)|   NULL|\n",
      "|       Platform|varchar(10)|   NULL|\n",
      "|Year_of_Release|        int|   NULL|\n",
      "|          Genre|varchar(20)|   NULL|\n",
      "|      Publisher|varchar(20)|   NULL|\n",
      "|       NA_Sales|      float|   NULL|\n",
      "|       EU_Sales|      float|   NULL|\n",
      "|       JP_Sales|      float|   NULL|\n",
      "|    Other_Sales|      float|   NULL|\n",
      "|   Global_Sales|      float|   NULL|\n",
      "|   Critic_Score|      float|   NULL|\n",
      "|   Critic_Count|        int|   NULL|\n",
      "|     User_Score|      float|   NULL|\n",
      "|     User_Count|        int|   NULL|\n",
      "|      Developer|varchar(20)|   NULL|\n",
      "|         Rating|varchar(10)|   NULL|\n",
      "+---------------+-----------+-------+\n",
      "\n"
     ]
    }
   ],
   "source": [
    "spark.sql(\"DESCRIBE TABLE videogame_eda_tbl\").show()"
   ]
  },
  {
   "cell_type": "code",
   "execution_count": 80,
   "metadata": {},
   "outputs": [
    {
     "name": "stdout",
     "output_type": "stream",
     "text": [
      "+----+--------+---------------+-----+---------+--------+--------+--------+-----------+------------+------------+------------+----------+----------+---------+------+\n",
      "|Name|Platform|Year_of_Release|Genre|Publisher|NA_Sales|EU_Sales|JP_Sales|Other_Sales|Global_Sales|Critic_Score|Critic_Count|User_Score|User_Count|Developer|Rating|\n",
      "+----+--------+---------------+-----+---------+--------+--------+--------+-----------+------------+------------+------------+----------+----------+---------+------+\n",
      "+----+--------+---------------+-----+---------+--------+--------+--------+-----------+------------+------------+------------+----------+----------+---------+------+\n",
      "\n"
     ]
    }
   ],
   "source": [
    "# check if Table created properlly\n",
    "spark.sql(\"\"\"SELECT *\n",
    "            FROM videogame_eda_tbl\"\"\").show()"
   ]
  },
  {
   "cell_type": "code",
   "execution_count": 81,
   "metadata": {},
   "outputs": [
    {
     "data": {
      "text/plain": [
       "DataFrame[]"
      ]
     },
     "execution_count": 81,
     "metadata": {},
     "output_type": "execute_result"
    }
   ],
   "source": [
    "# Load data from .csv file into recently created table (in Hive warehouse)\n",
    "spark.sql(\"\"\"LOAD DATA LOCAL INPATH 'Datasets/Video_Games.csv' \n",
    "          INTO TABLE videogame_eda_tbl\"\"\")\n"
   ]
  },
  {
   "cell_type": "code",
   "execution_count": 82,
   "metadata": {},
   "outputs": [],
   "source": [
    "# spark.sql(\"TRUNCATE TABLE videogame_eda_tbl\")"
   ]
  },
  {
   "cell_type": "code",
   "execution_count": 83,
   "metadata": {},
   "outputs": [
    {
     "name": "stdout",
     "output_type": "stream",
     "text": [
      "+--------------------+--------+---------------+------------+--------------------+--------+--------+--------+-----------+------------+------------+------------+----------+----------+-------------------+------+\n",
      "|                Name|Platform|Year_of_Release|       Genre|           Publisher|NA_Sales|EU_Sales|JP_Sales|Other_Sales|Global_Sales|Critic_Score|Critic_Count|User_Score|User_Count|          Developer|Rating|\n",
      "+--------------------+--------+---------------+------------+--------------------+--------+--------+--------+-----------+------------+------------+------------+----------+----------+-------------------+------+\n",
      "|                Name|Platform|           NULL|       Genre|           Publisher|    NULL|    NULL|    NULL|       NULL|        NULL|        NULL|        NULL|      NULL|      NULL|          Developer|Rating|\n",
      "|          Wii Sports|     Wii|           2006|      Sports|            Nintendo|   41.36|   28.96|    3.77|       8.45|       82.53|        76.0|          51|       8.0|       322|           Nintendo|     E|\n",
      "|   Super Mario Bros.|     NES|           1985|    Platform|            Nintendo|   29.08|    3.58|    6.81|       0.77|       40.24|        NULL|        NULL|      NULL|      NULL|                   |      |\n",
      "|      Mario Kart Wii|     Wii|           2008|      Racing|            Nintendo|   15.68|   12.76|    3.79|       3.29|       35.52|        82.0|          73|       8.3|       709|           Nintendo|     E|\n",
      "|   Wii Sports Resort|     Wii|           2009|      Sports|            Nintendo|   15.61|   10.93|    3.28|       2.95|       32.77|        80.0|          73|       8.0|       192|           Nintendo|     E|\n",
      "|Pokemon Red/Pokem...|      GB|           1996|Role-Playing|            Nintendo|   11.27|    8.89|   10.22|        1.0|       31.37|        NULL|        NULL|      NULL|      NULL|                   |      |\n",
      "|              Tetris|      GB|           1989|      Puzzle|            Nintendo|    23.2|    2.26|    4.22|       0.58|       30.26|        NULL|        NULL|      NULL|      NULL|                   |      |\n",
      "|New Super Mario B...|      DS|           2006|    Platform|            Nintendo|   11.28|    9.14|     6.5|       2.88|        29.8|        89.0|          65|       8.5|       431|           Nintendo|     E|\n",
      "|            Wii Play|     Wii|           2006|        Misc|            Nintendo|   13.96|    9.18|    2.93|       2.84|       28.92|        58.0|          41|       6.6|       129|           Nintendo|     E|\n",
      "|New Super Mario B...|     Wii|           2009|    Platform|            Nintendo|   14.44|    6.94|     4.7|       2.24|       28.32|        87.0|          80|       8.4|       594|           Nintendo|     E|\n",
      "|           Duck Hunt|     NES|           1984|     Shooter|            Nintendo|   26.93|    0.63|    0.28|       0.47|       28.31|        NULL|        NULL|      NULL|      NULL|                   |      |\n",
      "|          Nintendogs|      DS|           2005|  Simulation|            Nintendo|    9.05|   10.95|    1.93|       2.74|       24.67|        NULL|        NULL|      NULL|      NULL|                   |      |\n",
      "|       Mario Kart DS|      DS|           2005|      Racing|            Nintendo|    9.71|    7.47|    4.13|        1.9|       23.21|        91.0|          64|       8.6|       464|           Nintendo|     E|\n",
      "|Pokemon Gold/Poke...|      GB|           1999|Role-Playing|            Nintendo|     9.0|    6.18|     7.2|       0.71|        23.1|        NULL|        NULL|      NULL|      NULL|                   |      |\n",
      "|             Wii Fit|     Wii|           2007|      Sports|            Nintendo|    8.92|    8.03|     3.6|       2.15|        22.7|        80.0|          63|       7.7|       146|           Nintendo|     E|\n",
      "|  Kinect Adventures!|    X360|           2010|        Misc|Microsoft Game Studi|    15.0|    4.89|    0.24|       1.69|       21.81|        61.0|          45|       6.3|       106|Good Science Studio|     E|\n",
      "|        Wii Fit Plus|     Wii|           2009|      Sports|            Nintendo|    9.01|    8.49|    2.53|       1.77|       21.79|        80.0|          33|       7.4|        52|           Nintendo|     E|\n",
      "|  Grand Theft Auto V|     PS3|           2013|      Action|Take-Two Interactive|    7.02|    9.09|    0.98|       3.96|       21.04|        97.0|          50|       8.2|      3994|     Rockstar North|     M|\n",
      "|Grand Theft Auto:...|     PS2|           2004|      Action|Take-Two Interactive|    9.43|     0.4|    0.41|      10.57|       20.81|        95.0|          80|       9.0|      1588|     Rockstar North|     M|\n",
      "|   Super Mario World|    SNES|           1990|    Platform|            Nintendo|   12.78|    3.75|    3.54|       0.55|       20.61|        NULL|        NULL|      NULL|      NULL|                   |      |\n",
      "+--------------------+--------+---------------+------------+--------------------+--------+--------+--------+-----------+------------+------------+------------+----------+----------+-------------------+------+\n",
      "only showing top 20 rows\n",
      "\n"
     ]
    }
   ],
   "source": [
    "spark.sql(\"SELECT * FROM videogame_eda_tbl\").show()"
   ]
  },
  {
   "cell_type": "code",
   "execution_count": 100,
   "metadata": {},
   "outputs": [
    {
     "name": "stdout",
     "output_type": "stream",
     "text": [
      "+----------------------------+-------------+-------+\n",
      "|col_name                    |data_type    |comment|\n",
      "+----------------------------+-------------+-------+\n",
      "|Name                        |string       |NULL   |\n",
      "|Platform                    |string       |NULL   |\n",
      "|Year_of_Release             |string       |NULL   |\n",
      "|Genre                       |string       |NULL   |\n",
      "|Publisher                   |string       |NULL   |\n",
      "|NA_Sales                    |string       |NULL   |\n",
      "|EU_Sales                    |string       |NULL   |\n",
      "|JP_Sales                    |string       |NULL   |\n",
      "|Other_Sales                 |string       |NULL   |\n",
      "|Global_Sales                |string       |NULL   |\n",
      "|Critic_Score                |string       |NULL   |\n",
      "|Critic_Count                |string       |NULL   |\n",
      "|User_Score                  |string       |NULL   |\n",
      "|User_Count                  |string       |NULL   |\n",
      "|Developer                   |string       |NULL   |\n",
      "|Rating                      |string       |NULL   |\n",
      "|                            |             |       |\n",
      "|# Detailed Table Information|             |       |\n",
      "|Catalog                     |spark_catalog|       |\n",
      "|Database                    |default      |       |\n",
      "+----------------------------+-------------+-------+\n",
      "only showing top 20 rows\n",
      "\n",
      "Help on NoneType object:\n",
      "\n",
      "class NoneType(object)\n",
      " |  Methods defined here:\n",
      " |\n",
      " |  __bool__(self, /)\n",
      " |      True if self else False\n",
      " |\n",
      " |  __eq__(self, value, /)\n",
      " |      Return self==value.\n",
      " |\n",
      " |  __ge__(self, value, /)\n",
      " |      Return self>=value.\n",
      " |\n",
      " |  __gt__(self, value, /)\n",
      " |      Return self>value.\n",
      " |\n",
      " |  __hash__(self, /)\n",
      " |      Return hash(self).\n",
      " |\n",
      " |  __le__(self, value, /)\n",
      " |      Return self<=value.\n",
      " |\n",
      " |  __lt__(self, value, /)\n",
      " |      Return self<value.\n",
      " |\n",
      " |  __ne__(self, value, /)\n",
      " |      Return self!=value.\n",
      " |\n",
      " |  __repr__(self, /)\n",
      " |      Return repr(self).\n",
      " |\n",
      " |  ----------------------------------------------------------------------\n",
      " |  Static methods defined here:\n",
      " |\n",
      " |  __new__(*args, **kwargs)\n",
      " |      Create and return a new object.  See help(type) for accurate signature.\n",
      "\n"
     ]
    }
   ],
   "source": [
    "help(spark.sql(\"DESCRIBE FORMATTED videogame_eda_tbl\").show(truncate=False))"
   ]
  },
  {
   "cell_type": "code",
   "execution_count": 103,
   "metadata": {},
   "outputs": [
    {
     "name": "stdout",
     "output_type": "stream",
     "text": [
      "+----------------------------+------------------------------------------------------------------------------------------------------+-------+\n",
      "|col_name                    |data_type                                                                                             |comment|\n",
      "+----------------------------+------------------------------------------------------------------------------------------------------+-------+\n",
      "|Name                        |string                                                                                                |NULL   |\n",
      "|Platform                    |string                                                                                                |NULL   |\n",
      "|Year_of_Release             |string                                                                                                |NULL   |\n",
      "|Genre                       |string                                                                                                |NULL   |\n",
      "|Publisher                   |string                                                                                                |NULL   |\n",
      "|NA_Sales                    |string                                                                                                |NULL   |\n",
      "|EU_Sales                    |string                                                                                                |NULL   |\n",
      "|JP_Sales                    |string                                                                                                |NULL   |\n",
      "|Other_Sales                 |string                                                                                                |NULL   |\n",
      "|Global_Sales                |string                                                                                                |NULL   |\n",
      "|Critic_Score                |string                                                                                                |NULL   |\n",
      "|Critic_Count                |string                                                                                                |NULL   |\n",
      "|User_Score                  |string                                                                                                |NULL   |\n",
      "|User_Count                  |string                                                                                                |NULL   |\n",
      "|Developer                   |string                                                                                                |NULL   |\n",
      "|Rating                      |string                                                                                                |NULL   |\n",
      "|                            |                                                                                                      |       |\n",
      "|# Detailed Table Information|                                                                                                      |       |\n",
      "|Catalog                     |spark_catalog                                                                                         |       |\n",
      "|Database                    |default                                                                                               |       |\n",
      "|Table                       |videogame_eda_tbl                                                                                     |       |\n",
      "|Owner                       |riddhipc                                                                                              |       |\n",
      "|Created Time                |Sun Sep 08 13:53:50 EDT 2024                                                                          |       |\n",
      "|Last Access                 |UNKNOWN                                                                                               |       |\n",
      "|Created By                  |Spark 3.5.2                                                                                           |       |\n",
      "|Type                        |MANAGED                                                                                               |       |\n",
      "|Provider                    |parquet                                                                                               |       |\n",
      "|Statistics                  |471855 bytes                                                                                          |       |\n",
      "|Location                    |file:/home/riddhipc/Documents/learning/github-projects/videogame-EDA/spark-warehouse/videogame_eda_tbl|       |\n",
      "|Serde Library               |org.apache.hadoop.hive.ql.io.parquet.serde.ParquetHiveSerDe                                           |       |\n",
      "|InputFormat                 |org.apache.hadoop.hive.ql.io.parquet.MapredParquetInputFormat                                         |       |\n",
      "|OutputFormat                |org.apache.hadoop.hive.ql.io.parquet.MapredParquetOutputFormat                                        |       |\n",
      "+----------------------------+------------------------------------------------------------------------------------------------------+-------+\n",
      "\n"
     ]
    }
   ],
   "source": [
    "# Check files must be store in the  parquet files with snappy compression [Hint - Run Describe command]\n",
    "# 1. \n",
    "spark.sql(\"DESCRIBE FORMATTED videogame_eda_tbl\").show(100,truncate=False)"
   ]
  },
  {
   "cell_type": "code",
   "execution_count": 111,
   "metadata": {},
   "outputs": [
    {
     "name": "stdout",
     "output_type": "stream",
     "text": [
      "total 480K\n",
      "drwxr-xr-x 2 riddhipc riddhipc 4.0K Sep  8 13:53 .\n",
      "drwxrwxr-x 3 riddhipc riddhipc 4.0K Sep  8 13:53 ..\n",
      "-rw-r--r-- 1 riddhipc riddhipc 461K Sep  8 13:53 part-00000-44227652-ac5c-4fd3-bff4-21a5b843014a-c000.snappy.parquet\n",
      "-rw-r--r-- 1 riddhipc riddhipc 3.7K Sep  8 13:53 .part-00000-44227652-ac5c-4fd3-bff4-21a5b843014a-c000.snappy.parquet.crc\n",
      "-rw-r--r-- 1 riddhipc riddhipc    0 Sep  8 13:53 _SUCCESS\n",
      "-rw-r--r-- 1 riddhipc riddhipc    8 Sep  8 13:53 ._SUCCESS.crc\n"
     ]
    }
   ],
   "source": [
    "%%sh \n",
    "# Describe stored file(or table file) informations using following line - \n",
    "# 2. using sh command\n",
    "\n",
    "ls -alh spark-warehouse/videogame_eda_tbl/"
   ]
  },
  {
   "cell_type": "code",
   "execution_count": 123,
   "metadata": {},
   "outputs": [
    {
     "name": "stdout",
     "output_type": "stream",
     "text": [
      "+-----------------------------------------+-----------+\n",
      "|NAME                                     |count(NAME)|\n",
      "+-----------------------------------------+-----------+\n",
      "|The Elder Scrolls V: Skyrim              |5          |\n",
      "|The Legend of Zelda: Oracle of Ages      |1          |\n",
      "|Call of Duty Black Ops: Declassified     |1          |\n",
      "|Joust                                    |1          |\n",
      "|Legacy of Kain: Soul Reaver              |1          |\n",
      "|All-Star Baseball 2003                   |4          |\n",
      "|J-League Soccer: Prime Goal              |1          |\n",
      "|RIFT                                     |1          |\n",
      "|Ninokuni: Shikkoku no Madoushi           |1          |\n",
      "|Paws & Claws: Dogs & Cats Best Friends   |1          |\n",
      "|Barnstorming                             |1          |\n",
      "|Barbie: Jet, Set & Style!                |2          |\n",
      "|Yu-Gi-Oh! GX: Tag Force 2                |1          |\n",
      "|Sherlock Holmes: The Mystery of the Mummy|1          |\n",
      "|ESPN X Games Skateboarding               |2          |\n",
      "|Virtua Cop 2                             |1          |\n",
      "|RalliSport Challenge 2                   |1          |\n",
      "|That's So Raven: Psychic on the Scene    |1          |\n",
      "|Naruto: Ninja Council 2 European Version |1          |\n",
      "|Petz: Horse Club                         |1          |\n",
      "+-----------------------------------------+-----------+\n",
      "only showing top 20 rows\n",
      "\n"
     ]
    }
   ],
   "source": [
    "spark.sql(\"SELECT NAME, COUNT(NAME) FROM videogame_eda_tbl GROUP BY NAME\").show(truncate = False)"
   ]
  },
  {
   "cell_type": "code",
   "execution_count": 124,
   "metadata": {},
   "outputs": [
    {
     "name": "stdout",
     "output_type": "stream",
     "text": [
      "+---------------------------+--------+---------------+------------+------------------+--------+--------+--------+-----------+------------+------------+------------+----------+----------+---------------------+------+\n",
      "|Name                       |Platform|Year_of_Release|Genre       |Publisher         |NA_Sales|EU_Sales|JP_Sales|Other_Sales|Global_Sales|Critic_Score|Critic_Count|User_Score|User_Count|Developer            |Rating|\n",
      "+---------------------------+--------+---------------+------------+------------------+--------+--------+--------+-----------+------------+------------+------------+----------+----------+---------------------+------+\n",
      "|The Elder Scrolls V: Skyrim|X360    |2011           |Role-Playing|Bethesda Softworks|5.05    |2.79    |0.1     |0.85       |8.79        |96          |89          |8.4       |3589      |Bethesda Game Studios|M     |\n",
      "|The Elder Scrolls V: Skyrim|PS3     |2011           |Role-Playing|Bethesda Softworks|2.55    |2.6     |0.25    |1          |6.41        |92          |16          |6.4       |2527      |Bethesda Game Studios|M     |\n",
      "|The Elder Scrolls V: Skyrim|PC      |2011           |Role-Playing|Bethesda Softworks|1.16    |2.12    |0       |0.6        |3.88        |94          |32          |8.1       |9073      |Bethesda Game Studios|M     |\n",
      "|The Elder Scrolls V: Skyrim|PS4     |2016           |Role-Playing|Bethesda Softworks|0.48    |0.59    |0.04    |0.21       |1.33        |NULL        |NULL        |NULL      |NULL      |NULL                 |NULL  |\n",
      "|The Elder Scrolls V: Skyrim|XOne    |2016           |Role-Playing|Bethesda Softworks|0.41    |0.27    |0       |0.07       |0.74        |NULL        |NULL        |NULL      |NULL      |NULL                 |NULL  |\n",
      "+---------------------------+--------+---------------+------------+------------------+--------+--------+--------+-----------+------------+------------+------------+----------+----------+---------------------+------+\n",
      "\n"
     ]
    }
   ],
   "source": [
    "spark.sql(\"SELECT * FROM videogame_eda_tbl \\\n",
    "           WHERE NAME = 'The Elder Scrolls V: Skyrim'\").show(truncate=False)"
   ]
  },
  {
   "cell_type": "code",
   "execution_count": 137,
   "metadata": {},
   "outputs": [
    {
     "name": "stdout",
     "output_type": "stream",
     "text": [
      "+-----------------------------------------+--------------+-------------+-------------+-----------------+----------------+\n",
      "|Name                                     |Total_NA_Sales|Total_EU_Sale|Total_JP_Sale|Total_Global_Sale|Total_Other_Sale|\n",
      "+-----------------------------------------+--------------+-------------+-------------+-----------------+----------------+\n",
      "|The Elder Scrolls V: Skyrim              |9.65          |8.37         |0.39         |21.15            |2.73            |\n",
      "|The Legend of Zelda: Oracle of Ages      |0.92          |0.53         |0.41         |1.92             |0.06            |\n",
      "|Call of Duty Black Ops: Declassified     |0.71          |0.43         |0.07         |1.47             |0.26            |\n",
      "|Joust                                    |1.01          |0.06         |0.0          |1.08             |0.01            |\n",
      "|Legacy of Kain: Soul Reaver              |0.58          |0.4          |0.0          |1.04             |0.07            |\n",
      "|All-Star Baseball 2003                   |0.8           |0.42         |0.0          |1.33             |0.11            |\n",
      "|J-League Soccer: Prime Goal              |0.0           |0.0          |0.69         |0.69             |0.0             |\n",
      "|RIFT                                     |0.44          |0.16         |0.0          |0.67             |0.07            |\n",
      "|Ninokuni: Shikkoku no Madoushi           |0.0           |0.0          |0.54         |0.54             |0.0             |\n",
      "|Paws & Claws: Dogs & Cats Best Friends   |0.46          |0.01         |0.0          |0.5              |0.04            |\n",
      "|Barnstorming                             |0.4           |0.02         |0.0          |0.43             |0.0             |\n",
      "|Barbie: Jet, Set & Style!                |0.56          |0.06         |0.0          |0.67             |0.05            |\n",
      "|Yu-Gi-Oh! GX: Tag Force 2                |0.03          |0.19         |0.1          |0.41             |0.1             |\n",
      "|Sherlock Holmes: The Mystery of the Mummy|0.06          |0.3          |0.0          |0.39             |0.04            |\n",
      "|ESPN X Games Skateboarding               |0.31          |0.19         |0.0          |0.54             |0.05            |\n",
      "|Virtua Cop 2                             |0.0           |0.0          |0.3          |0.3              |0.0             |\n",
      "|RalliSport Challenge 2                   |0.18          |0.08         |0.0          |0.27             |0.01            |\n",
      "|That's So Raven: Psychic on the Scene    |0.23          |0.0          |0.0          |0.24             |0.02            |\n",
      "|Naruto: Ninja Council 2 European Version |0.0           |0.0          |0.23         |0.23             |0.0             |\n",
      "|Petz: Horse Club                         |0.2           |0.0          |0.0          |0.21             |0.02            |\n",
      "+-----------------------------------------+--------------+-------------+-------------+-----------------+----------------+\n",
      "only showing top 20 rows\n",
      "\n"
     ]
    }
   ],
   "source": [
    "# Calculate the ToTal Sales per Game - North America, EU, JP, Global and Other sales\n",
    "spark.sql(\"\"\"SELECT Name, \n",
    "          ROUND(SUM(NA_Sales), 2) AS Total_NA_Sales, \n",
    "          ROUND(SUM(EU_Sales), 2) AS Total_EU_Sale, \n",
    "          ROUND(SUM(JP_Sales), 2) AS Total_JP_Sale, \n",
    "          ROUND(SUM(Global_Sales), 2) AS Total_Global_Sale, \n",
    "          ROUND(SUM(Other_Sales), 2) AS Total_Other_Sale\n",
    "            FROM videogame_eda_tbl\n",
    "            GROUP BY Name\n",
    "\"\"\").show(truncate=False)"
   ]
  },
  {
   "cell_type": "code",
   "execution_count": 153,
   "metadata": {},
   "outputs": [
    {
     "name": "stdout",
     "output_type": "stream",
     "text": [
      "+--------------------------------------------+--------+---------------+------------+---------------------------+--------+--------+--------+-----------+------------+------------+------------+----------+----------+------------------------------------------------------------+------+\n",
      "|Name                                        |Platform|Year_of_Release|Genre       |Publisher                  |NA_Sales|EU_Sales|JP_Sales|Other_Sales|Global_Sales|Critic_Score|Critic_Count|User_Score|User_Count|Developer                                                   |Rating|\n",
      "+--------------------------------------------+--------+---------------+------------+---------------------------+--------+--------+--------+-----------+------------+------------+------------+----------+----------+------------------------------------------------------------+------+\n",
      "|Wii Sports                                  |Wii     |2006           |Sports      |Nintendo                   |41.36   |28.96   |3.77    |8.45       |82.53       |76          |51          |8         |322       |Nintendo                                                    |E     |\n",
      "|Super Mario Bros.                           |NES     |1985           |Platform    |Nintendo                   |29.08   |3.58    |6.81    |0.77       |40.24       |0           |0           |0         |0         |N/A                                                         |N/A   |\n",
      "|Mario Kart Wii                              |Wii     |2008           |Racing      |Nintendo                   |15.68   |12.76   |3.79    |3.29       |35.52       |82          |73          |8.3       |709       |Nintendo                                                    |E     |\n",
      "|Wii Sports Resort                           |Wii     |2009           |Sports      |Nintendo                   |15.61   |10.93   |3.28    |2.95       |32.77       |80          |73          |8         |192       |Nintendo                                                    |E     |\n",
      "|Pokemon Red/Pokemon Blue                    |GB      |1996           |Role-Playing|Nintendo                   |11.27   |8.89    |10.22   |1          |31.37       |0           |0           |0         |0         |N/A                                                         |N/A   |\n",
      "|Tetris                                      |GB      |1989           |Puzzle      |Nintendo                   |23.2    |2.26    |4.22    |0.58       |30.26       |0           |0           |0         |0         |N/A                                                         |N/A   |\n",
      "|New Super Mario Bros.                       |DS      |2006           |Platform    |Nintendo                   |11.28   |9.14    |6.5     |2.88       |29.8        |89          |65          |8.5       |431       |Nintendo                                                    |E     |\n",
      "|Wii Play                                    |Wii     |2006           |Misc        |Nintendo                   |13.96   |9.18    |2.93    |2.84       |28.92       |58          |41          |6.6       |129       |Nintendo                                                    |E     |\n",
      "|New Super Mario Bros. Wii                   |Wii     |2009           |Platform    |Nintendo                   |14.44   |6.94    |4.7     |2.24       |28.32       |87          |80          |8.4       |594       |Nintendo                                                    |E     |\n",
      "|Duck Hunt                                   |NES     |1984           |Shooter     |Nintendo                   |26.93   |0.63    |0.28    |0.47       |28.31       |0           |0           |0         |0         |N/A                                                         |N/A   |\n",
      "|Nintendogs                                  |DS      |2005           |Simulation  |Nintendo                   |9.05    |10.95   |1.93    |2.74       |24.67       |0           |0           |0         |0         |N/A                                                         |N/A   |\n",
      "|Mario Kart DS                               |DS      |2005           |Racing      |Nintendo                   |9.71    |7.47    |4.13    |1.9        |23.21       |91          |64          |8.6       |464       |Nintendo                                                    |E     |\n",
      "|Pokemon Gold/Pokemon Silver                 |GB      |1999           |Role-Playing|Nintendo                   |9       |6.18    |7.2     |0.71       |23.1        |0           |0           |0         |0         |N/A                                                         |N/A   |\n",
      "|Wii Fit                                     |Wii     |2007           |Sports      |Nintendo                   |8.92    |8.03    |3.6     |2.15       |22.7        |80          |63          |7.7       |146       |Nintendo                                                    |E     |\n",
      "|Kinect Adventures!                          |X360    |2010           |Misc        |Microsoft Game Studios     |15      |4.89    |0.24    |1.69       |21.81       |61          |45          |6.3       |106       |Good Science Studio                                         |E     |\n",
      "|Wii Fit Plus                                |Wii     |2009           |Sports      |Nintendo                   |9.01    |8.49    |2.53    |1.77       |21.79       |80          |33          |7.4       |52        |Nintendo                                                    |E     |\n",
      "|Grand Theft Auto V                          |PS3     |2013           |Action      |Take-Two Interactive       |7.02    |9.09    |0.98    |3.96       |21.04       |97          |50          |8.2       |3994      |Rockstar North                                              |M     |\n",
      "|Grand Theft Auto: San Andreas               |PS2     |2004           |Action      |Take-Two Interactive       |9.43    |0.4     |0.41    |10.57      |20.81       |95          |80          |9         |1588      |Rockstar North                                              |M     |\n",
      "|Super Mario World                           |SNES    |1990           |Platform    |Nintendo                   |12.78   |3.75    |3.54    |0.55       |20.61       |0           |0           |0         |0         |N/A                                                         |N/A   |\n",
      "|Brain Age: Train Your Brain in Minutes a Day|DS      |2005           |Misc        |Nintendo                   |4.74    |9.2     |4.16    |2.04       |20.15       |77          |58          |7.9       |50        |Nintendo                                                    |E     |\n",
      "|Pokemon Diamond/Pokemon Pearl               |DS      |2006           |Role-Playing|Nintendo                   |6.38    |4.46    |6.04    |1.36       |18.25       |0           |0           |0         |0         |N/A                                                         |N/A   |\n",
      "|Super Mario Land                            |GB      |1989           |Platform    |Nintendo                   |10.83   |2.71    |4.18    |0.42       |18.14       |0           |0           |0         |0         |N/A                                                         |N/A   |\n",
      "|Super Mario Bros. 3                         |NES     |1988           |Platform    |Nintendo                   |9.54    |3.44    |3.84    |0.46       |17.28       |0           |0           |0         |0         |N/A                                                         |N/A   |\n",
      "|Grand Theft Auto V                          |X360    |2013           |Action      |Take-Two Interactive       |9.66    |5.14    |0.06    |1.41       |16.27       |97          |58          |8.1       |3711      |Rockstar North                                              |M     |\n",
      "|Grand Theft Auto: Vice City                 |PS2     |2002           |Action      |Take-Two Interactive       |8.41    |5.49    |0.47    |1.78       |16.15       |95          |62          |8.7       |730       |Rockstar North                                              |M     |\n",
      "|Pokemon Ruby/Pokemon Sapphire               |GBA     |2002           |Role-Playing|Nintendo                   |6.06    |3.9     |5.38    |0.5        |15.85       |0           |0           |0         |0         |N/A                                                         |N/A   |\n",
      "|Brain Age 2: More Training in Minutes a Day |DS      |2005           |Puzzle      |Nintendo                   |3.43    |5.35    |5.32    |1.18       |15.29       |77          |37          |7.1       |19        |Nintendo                                                    |E     |\n",
      "|Pokemon Black/Pokemon White                 |DS      |2010           |Role-Playing|Nintendo                   |5.51    |3.17    |5.65    |0.8        |15.14       |0           |0           |0         |0         |N/A                                                         |N/A   |\n",
      "|Gran Turismo 3: A-Spec                      |PS2     |2001           |Racing      |Sony Computer Entertainment|6.85    |5.09    |1.87    |1.16       |14.98       |95          |54          |8.4       |314       |Polyphony Digital                                           |E     |\n",
      "|Call of Duty: Modern Warfare 3              |X360    |2011           |Shooter     |Activision                 |9.04    |4.24    |0.13    |1.32       |14.73       |88          |81          |3.4       |8713      |Infinity Ward, Sledgehammer Games                           |M     |\n",
      "|Pokémon Yellow: Special Pikachu Edition     |GB      |1998           |Role-Playing|Nintendo                   |5.89    |5.04    |3.12    |0.59       |14.64       |0           |0           |0         |0         |N/A                                                         |N/A   |\n",
      "|Call of Duty: Black Ops 3                   |PS4     |2015           |Shooter     |Activision                 |6.03    |5.86    |0.36    |2.38       |14.63       |0           |0           |0         |0         |N/A                                                         |N/A   |\n",
      "|Call of Duty: Black Ops                     |X360    |2010           |Shooter     |Activision                 |9.7     |3.68    |0.11    |1.13       |14.61       |87          |89          |6.3       |1454      |Treyarch                                                    |M     |\n",
      "|Pokemon X/Pokemon Y                         |3DS     |2013           |Role-Playing|Nintendo                   |5.28    |4.19    |4.35    |0.78       |14.6        |0           |0           |0         |0         |N/A                                                         |N/A   |\n",
      "|Call of Duty: Black Ops II                  |PS3     |2012           |Shooter     |Activision                 |4.99    |5.73    |0.65    |2.42       |13.79       |83          |21          |5.3       |922       |Treyarch                                                    |M     |\n",
      "|Call of Duty: Black Ops II                  |X360    |2012           |Shooter     |Activision                 |8.25    |4.24    |0.07    |1.12       |13.67       |83          |73          |4.8       |2256      |Treyarch                                                    |M     |\n",
      "|Call of Duty: Modern Warfare 2              |X360    |2009           |Shooter     |Activision                 |8.52    |3.59    |0.08    |1.28       |13.47       |94          |100         |6.3       |2698      |Infinity Ward                                               |M     |\n",
      "|Call of Duty: Modern Warfare 3              |PS3     |2011           |Shooter     |Activision                 |5.54    |5.73    |0.49    |1.57       |13.32       |88          |39          |3.2       |5234      |Infinity Ward, Sledgehammer Games                           |M     |\n",
      "|Grand Theft Auto III                        |PS2     |2001           |Action      |Take-Two Interactive       |6.99    |4.51    |0.3     |1.3        |13.1        |97          |56          |8.5       |664       |DMA Design                                                  |M     |\n",
      "|Super Smash Bros. Brawl                     |Wii     |2008           |Fighting    |Nintendo                   |6.62    |2.55    |2.66    |1.01       |12.84       |93          |81          |8.9       |1662      |Game Arts                                                   |T     |\n",
      "|Mario Kart 7                                |3DS     |2011           |Racing      |Nintendo                   |5.03    |4.02    |2.69    |0.91       |12.66       |85          |73          |8.2       |632       |Retro Studios, Entertainment Analysis & Development Division|E     |\n",
      "|Call of Duty: Black Ops                     |PS3     |2010           |Shooter     |Activision                 |5.99    |4.37    |0.48    |1.79       |12.63       |88          |58          |6.4       |1094      |Treyarch                                                    |M     |\n",
      "|Grand Theft Auto V                          |PS4     |2014           |Action      |Take-Two Interactive       |3.96    |6.31    |0.38    |1.97       |12.61       |97          |66          |8.3       |2899      |Rockstar North                                              |M     |\n",
      "|Animal Crossing: Wild World                 |DS      |2005           |Simulation  |Nintendo                   |2.5     |3.45    |5.33    |0.86       |12.13       |86          |57          |8.7       |242       |Nintendo                                                    |E     |\n",
      "|Halo 3                                      |X360    |2007           |Shooter     |Microsoft Game Studios     |7.97    |2.81    |0.13    |1.21       |12.12       |94          |86          |7.8       |4100      |Bungie Software, Bungie                                     |M     |\n",
      "|Super Mario 64                              |N64     |1996           |Platform    |Nintendo                   |6.91    |2.85    |1.91    |0.23       |11.89       |0           |0           |0         |0         |N/A                                                         |N/A   |\n",
      "|Pokemon HeartGold/Pokemon SoulSilver        |DS      |2009           |Action      |Nintendo                   |4.34    |2.71    |3.96    |0.76       |11.77       |0           |0           |0         |0         |N/A                                                         |N/A   |\n",
      "|Pokemon Omega Ruby/Pokemon Alpha Sapphire   |3DS     |2014           |Role-Playing|Nintendo                   |4.35    |3.49    |3.1     |0.74       |11.68       |0           |0           |0         |0         |N/A                                                         |N/A   |\n",
      "|Gran Turismo 4                              |PS2     |2004           |Racing      |Sony Computer Entertainment|3.01    |0.01    |1.1     |7.53       |11.66       |89          |74          |8.5       |272       |Polyphony Digital                                           |E     |\n",
      "|Super Mario Galaxy                          |Wii     |2007           |Platform    |Nintendo                   |6.06    |3.35    |1.2     |0.74       |11.35       |97          |73          |8.9       |2147      |Nintendo                                                    |E     |\n",
      "+--------------------------------------------+--------+---------------+------------+---------------------------+--------+--------+--------+-----------+------------+------------+------------+----------+----------+------------------------------------------------------------+------+\n",
      "only showing top 50 rows\n",
      "\n"
     ]
    }
   ],
   "source": [
    "# Replace null values in the \"Critic_Score\" and \"User_Score\" columns with appropriate values\n",
    "# using pyspark - we can't perform delete and update operation in hive table, so we'll update the dataframe\n",
    "csvDF.na.fill({\"Critic_Score\" : 0, \\\n",
    "              \"User_Score\" : 0, \\\n",
    "              \"Critic_Count\" : 0, \\\n",
    "              \"User_Count\" : 0, \\\n",
    "              \"Developer\" : 'N/A', \\\n",
    "              \"Rating\" : 'N/A'}).show(50, truncate=False)"
   ]
  },
  {
   "cell_type": "code",
   "execution_count": 158,
   "metadata": {},
   "outputs": [
    {
     "name": "stdout",
     "output_type": "stream",
     "text": [
      "+--------+--------------+\n",
      "|Platform|Total_Platform|\n",
      "+--------+--------------+\n",
      "|3DO     |3             |\n",
      "|PC      |974           |\n",
      "|PS3     |1331          |\n",
      "|NES     |98            |\n",
      "|PS      |1197          |\n",
      "|DC      |52            |\n",
      "|GEN     |29            |\n",
      "|PS2     |2161          |\n",
      "|3DS     |520           |\n",
      "|PCFX    |1             |\n",
      "|GG      |1             |\n",
      "|WiiU    |147           |\n",
      "|SNES    |239           |\n",
      "|GB      |98            |\n",
      "|SCD     |6             |\n",
      "|N64     |319           |\n",
      "|PS4     |393           |\n",
      "|PSP     |1209          |\n",
      "|2600    |133           |\n",
      "|XOne    |247           |\n",
      "|X360    |1262          |\n",
      "|GBA     |822           |\n",
      "|WS      |6             |\n",
      "|Wii     |1320          |\n",
      "|GC      |556           |\n",
      "|PSV     |432           |\n",
      "|XB      |824           |\n",
      "|DS      |2152          |\n",
      "|TG16    |2             |\n",
      "|NG      |12            |\n",
      "|SAT     |173           |\n",
      "+--------+--------------+\n",
      "\n"
     ]
    }
   ],
   "source": [
    "# Get total number of the unique Gaming Platforms.\n",
    "spark.sql(\"SELECT Platform, COUNT(Platform) AS Total_Platform \\\n",
    "          FROM videogame_eda_tbl \\\n",
    "          GROUP BY Platform\").show(100, truncate = False)"
   ]
  },
  {
   "cell_type": "code",
   "execution_count": 195,
   "metadata": {},
   "outputs": [
    {
     "ename": "AnalysisException",
     "evalue": "[UNRESOLVED_COLUMN.WITH_SUGGESTION] A column or function parameter with name `Top10_NA_Sales` cannot be resolved. Did you mean one of the following? [`Top_NA_Sales`, `spark_catalog`.`default`.`videogame_eda_tbl`.`Name`].; line 5 pos 21;\n'GlobalLimit 10\n+- 'LocalLimit 10\n   +- 'Sort ['Top10_NA_Sales DESC NULLS LAST], true\n      +- Aggregate [Name#3023], [Name#3023, round(sum(cast(NA_Sales#3028 as double)), 2) AS Top_NA_Sales#5898]\n         +- SubqueryAlias spark_catalog.default.videogame_eda_tbl\n            +- Relation spark_catalog.default.videogame_eda_tbl[Name#3023,Platform#3024,Year_of_Release#3025,Genre#3026,Publisher#3027,NA_Sales#3028,EU_Sales#3029,JP_Sales#3030,Other_Sales#3031,Global_Sales#3032,Critic_Score#3033,Critic_Count#3034,User_Score#3035,User_Count#3036,Developer#3037,Rating#3038] parquet\n",
     "output_type": "error",
     "traceback": [
      "\u001b[0;31m---------------------------------------------------------------------------\u001b[0m",
      "\u001b[0;31mAnalysisException\u001b[0m                         Traceback (most recent call last)",
      "Cell \u001b[0;32mIn[195], line 3\u001b[0m\n\u001b[1;32m      1\u001b[0m \u001b[38;5;66;03m# Identify the top-selling games globally and regionally (NA, EU, JP, Globally, Other) - Top 10.\u001b[39;00m\n\u001b[1;32m      2\u001b[0m \u001b[38;5;66;03m# NA_Sales\u001b[39;00m\n\u001b[0;32m----> 3\u001b[0m \u001b[43mspark\u001b[49m\u001b[38;5;241;43m.\u001b[39;49m\u001b[43msql\u001b[49m\u001b[43m(\u001b[49m\u001b[38;5;124;43m\"\"\"\u001b[39;49m\u001b[38;5;124;43mSELECT Name, \u001b[39;49m\n\u001b[1;32m      4\u001b[0m \u001b[38;5;124;43m            ROUND(SUM(NA_Sales), 2) AS Top_NA_Sales\u001b[39;49m\n\u001b[1;32m      5\u001b[0m \u001b[38;5;124;43m            FROM videogame_eda_tbl\u001b[39;49m\n\u001b[1;32m      6\u001b[0m \u001b[38;5;124;43m            GROUP BY Name\u001b[39;49m\n\u001b[1;32m      7\u001b[0m \u001b[38;5;124;43m            ORDER BY Top10_NA_Sales DESC\u001b[39;49m\n\u001b[1;32m      8\u001b[0m \u001b[38;5;124;43m            LIMIT 10\u001b[39;49m\u001b[38;5;124;43m\"\"\"\u001b[39;49m\u001b[43m)\u001b[49m\u001b[38;5;241m.\u001b[39mshow(truncate \u001b[38;5;241m=\u001b[39m \u001b[38;5;28;01mFalse\u001b[39;00m)\n",
      "File \u001b[0;32m~/Documents/learning/github-projects/videogame-EDA/.venv/lib/python3.12/site-packages/pyspark/sql/session.py:1631\u001b[0m, in \u001b[0;36mSparkSession.sql\u001b[0;34m(self, sqlQuery, args, **kwargs)\u001b[0m\n\u001b[1;32m   1627\u001b[0m         \u001b[38;5;28;01massert\u001b[39;00m \u001b[38;5;28mself\u001b[39m\u001b[38;5;241m.\u001b[39m_jvm \u001b[38;5;129;01mis\u001b[39;00m \u001b[38;5;129;01mnot\u001b[39;00m \u001b[38;5;28;01mNone\u001b[39;00m\n\u001b[1;32m   1628\u001b[0m         litArgs \u001b[38;5;241m=\u001b[39m \u001b[38;5;28mself\u001b[39m\u001b[38;5;241m.\u001b[39m_jvm\u001b[38;5;241m.\u001b[39mPythonUtils\u001b[38;5;241m.\u001b[39mtoArray(\n\u001b[1;32m   1629\u001b[0m             [_to_java_column(lit(v)) \u001b[38;5;28;01mfor\u001b[39;00m v \u001b[38;5;129;01min\u001b[39;00m (args \u001b[38;5;129;01mor\u001b[39;00m [])]\n\u001b[1;32m   1630\u001b[0m         )\n\u001b[0;32m-> 1631\u001b[0m     \u001b[38;5;28;01mreturn\u001b[39;00m DataFrame(\u001b[38;5;28;43mself\u001b[39;49m\u001b[38;5;241;43m.\u001b[39;49m\u001b[43m_jsparkSession\u001b[49m\u001b[38;5;241;43m.\u001b[39;49m\u001b[43msql\u001b[49m\u001b[43m(\u001b[49m\u001b[43msqlQuery\u001b[49m\u001b[43m,\u001b[49m\u001b[43m \u001b[49m\u001b[43mlitArgs\u001b[49m\u001b[43m)\u001b[49m, \u001b[38;5;28mself\u001b[39m)\n\u001b[1;32m   1632\u001b[0m \u001b[38;5;28;01mfinally\u001b[39;00m:\n\u001b[1;32m   1633\u001b[0m     \u001b[38;5;28;01mif\u001b[39;00m \u001b[38;5;28mlen\u001b[39m(kwargs) \u001b[38;5;241m>\u001b[39m \u001b[38;5;241m0\u001b[39m:\n",
      "File \u001b[0;32m~/Documents/learning/github-projects/videogame-EDA/.venv/lib/python3.12/site-packages/py4j/java_gateway.py:1322\u001b[0m, in \u001b[0;36mJavaMember.__call__\u001b[0;34m(self, *args)\u001b[0m\n\u001b[1;32m   1316\u001b[0m command \u001b[38;5;241m=\u001b[39m proto\u001b[38;5;241m.\u001b[39mCALL_COMMAND_NAME \u001b[38;5;241m+\u001b[39m\\\n\u001b[1;32m   1317\u001b[0m     \u001b[38;5;28mself\u001b[39m\u001b[38;5;241m.\u001b[39mcommand_header \u001b[38;5;241m+\u001b[39m\\\n\u001b[1;32m   1318\u001b[0m     args_command \u001b[38;5;241m+\u001b[39m\\\n\u001b[1;32m   1319\u001b[0m     proto\u001b[38;5;241m.\u001b[39mEND_COMMAND_PART\n\u001b[1;32m   1321\u001b[0m answer \u001b[38;5;241m=\u001b[39m \u001b[38;5;28mself\u001b[39m\u001b[38;5;241m.\u001b[39mgateway_client\u001b[38;5;241m.\u001b[39msend_command(command)\n\u001b[0;32m-> 1322\u001b[0m return_value \u001b[38;5;241m=\u001b[39m \u001b[43mget_return_value\u001b[49m\u001b[43m(\u001b[49m\n\u001b[1;32m   1323\u001b[0m \u001b[43m    \u001b[49m\u001b[43manswer\u001b[49m\u001b[43m,\u001b[49m\u001b[43m \u001b[49m\u001b[38;5;28;43mself\u001b[39;49m\u001b[38;5;241;43m.\u001b[39;49m\u001b[43mgateway_client\u001b[49m\u001b[43m,\u001b[49m\u001b[43m \u001b[49m\u001b[38;5;28;43mself\u001b[39;49m\u001b[38;5;241;43m.\u001b[39;49m\u001b[43mtarget_id\u001b[49m\u001b[43m,\u001b[49m\u001b[43m \u001b[49m\u001b[38;5;28;43mself\u001b[39;49m\u001b[38;5;241;43m.\u001b[39;49m\u001b[43mname\u001b[49m\u001b[43m)\u001b[49m\n\u001b[1;32m   1325\u001b[0m \u001b[38;5;28;01mfor\u001b[39;00m temp_arg \u001b[38;5;129;01min\u001b[39;00m temp_args:\n\u001b[1;32m   1326\u001b[0m     \u001b[38;5;28;01mif\u001b[39;00m \u001b[38;5;28mhasattr\u001b[39m(temp_arg, \u001b[38;5;124m\"\u001b[39m\u001b[38;5;124m_detach\u001b[39m\u001b[38;5;124m\"\u001b[39m):\n",
      "File \u001b[0;32m~/Documents/learning/github-projects/videogame-EDA/.venv/lib/python3.12/site-packages/pyspark/errors/exceptions/captured.py:185\u001b[0m, in \u001b[0;36mcapture_sql_exception.<locals>.deco\u001b[0;34m(*a, **kw)\u001b[0m\n\u001b[1;32m    181\u001b[0m converted \u001b[38;5;241m=\u001b[39m convert_exception(e\u001b[38;5;241m.\u001b[39mjava_exception)\n\u001b[1;32m    182\u001b[0m \u001b[38;5;28;01mif\u001b[39;00m \u001b[38;5;129;01mnot\u001b[39;00m \u001b[38;5;28misinstance\u001b[39m(converted, UnknownException):\n\u001b[1;32m    183\u001b[0m     \u001b[38;5;66;03m# Hide where the exception came from that shows a non-Pythonic\u001b[39;00m\n\u001b[1;32m    184\u001b[0m     \u001b[38;5;66;03m# JVM exception message.\u001b[39;00m\n\u001b[0;32m--> 185\u001b[0m     \u001b[38;5;28;01mraise\u001b[39;00m converted \u001b[38;5;28;01mfrom\u001b[39;00m \u001b[38;5;28;01mNone\u001b[39;00m\n\u001b[1;32m    186\u001b[0m \u001b[38;5;28;01melse\u001b[39;00m:\n\u001b[1;32m    187\u001b[0m     \u001b[38;5;28;01mraise\u001b[39;00m\n",
      "\u001b[0;31mAnalysisException\u001b[0m: [UNRESOLVED_COLUMN.WITH_SUGGESTION] A column or function parameter with name `Top10_NA_Sales` cannot be resolved. Did you mean one of the following? [`Top_NA_Sales`, `spark_catalog`.`default`.`videogame_eda_tbl`.`Name`].; line 5 pos 21;\n'GlobalLimit 10\n+- 'LocalLimit 10\n   +- 'Sort ['Top10_NA_Sales DESC NULLS LAST], true\n      +- Aggregate [Name#3023], [Name#3023, round(sum(cast(NA_Sales#3028 as double)), 2) AS Top_NA_Sales#5898]\n         +- SubqueryAlias spark_catalog.default.videogame_eda_tbl\n            +- Relation spark_catalog.default.videogame_eda_tbl[Name#3023,Platform#3024,Year_of_Release#3025,Genre#3026,Publisher#3027,NA_Sales#3028,EU_Sales#3029,JP_Sales#3030,Other_Sales#3031,Global_Sales#3032,Critic_Score#3033,Critic_Count#3034,User_Score#3035,User_Count#3036,Developer#3037,Rating#3038] parquet\n"
     ]
    }
   ],
   "source": [
    "# Identify the top-selling games globally and regionally (NA, EU, JP, Globally, Other) - Top 10.\n",
    "# NA_Sales\n",
    "spark.sql(\"\"\"SELECT Name, \n",
    "            ROUND(SUM(NA_Sales), 2) AS Top_NA_Sales\n",
    "            FROM videogame_eda_tbl\n",
    "            GROUP BY Name\n",
    "            ORDER BY Top10_NA_Sales DESC\n",
    "            LIMIT 10\"\"\").show(truncate = False)"
   ]
  },
  {
   "cell_type": "code",
   "execution_count": 194,
   "metadata": {},
   "outputs": [
    {
     "name": "stdout",
     "output_type": "stream",
     "text": [
      "+------------------------------+--------------+\n",
      "|Name                          |Top10_EU_Sales|\n",
      "+------------------------------+--------------+\n",
      "|Wii Sports                    |28.96         |\n",
      "|Grand Theft Auto V            |23.42         |\n",
      "|Mario Kart Wii                |12.76         |\n",
      "|FIFA 15                       |12.02         |\n",
      "|Call of Duty: Modern Warfare 3|11.15         |\n",
      "|FIFA 16                       |11.09         |\n",
      "|FIFA 14                       |10.96         |\n",
      "|Nintendogs                    |10.95         |\n",
      "|Wii Sports Resort             |10.93         |\n",
      "|Call of Duty: Black Ops II    |10.84         |\n",
      "+------------------------------+--------------+\n",
      "\n"
     ]
    }
   ],
   "source": [
    "# EU_Sales\n",
    "spark.sql(\"\"\"SELECT Name, \n",
    "            ROUND(SUM(EU_Sales), 2) AS Top10_EU_Sales\n",
    "            FROM videogame_eda_tbl\n",
    "            GROUP BY Name\n",
    "            ORDER BY Top10_EU_Sales DESC\n",
    "            LIMIT 10\"\"\").show(truncate = False)"
   ]
  },
  {
   "cell_type": "code",
   "execution_count": 193,
   "metadata": {},
   "outputs": [
    {
     "name": "stdout",
     "output_type": "stream",
     "text": [
      "+----------------------------------+--------------+\n",
      "|Name                              |Top10_JP_Sales|\n",
      "+----------------------------------+--------------+\n",
      "|Pokemon Red/Pokemon Blue          |10.22         |\n",
      "|Pokemon Gold/Pokemon Silver       |7.2           |\n",
      "|Super Mario Bros.                 |6.96          |\n",
      "|New Super Mario Bros.             |6.5           |\n",
      "|Pokemon Diamond/Pokemon Pearl     |6.04          |\n",
      "|Tetris                            |6.03          |\n",
      "|Pokemon Black/Pokemon White       |5.65          |\n",
      "|Dragon Quest VII: Warriors of Eden|5.4           |\n",
      "|Pokemon Ruby/Pokemon Sapphire     |5.38          |\n",
      "|Animal Crossing: Wild World       |5.33          |\n",
      "+----------------------------------+--------------+\n",
      "\n"
     ]
    }
   ],
   "source": [
    "# JP_Sales\n",
    "spark.sql(\"\"\"SELECT Name, \n",
    "            ROUND(SUM(JP_Sales), 2) AS Top10_JP_Sales\n",
    "            FROM videogame_eda_tbl\n",
    "            GROUP BY Name\n",
    "            ORDER BY Top10_JP_Sales DESC\n",
    "            LIMIT 10\"\"\").show(truncate = False)"
   ]
  },
  {
   "cell_type": "code",
   "execution_count": 196,
   "metadata": {},
   "outputs": [
    {
     "name": "stdout",
     "output_type": "stream",
     "text": [
      "+------------------------------+------------------+\n",
      "|Name                          |Top10_Global_Sales|\n",
      "+------------------------------+------------------+\n",
      "|Wii Sports                    |82.53             |\n",
      "|Grand Theft Auto V            |56.57             |\n",
      "|Super Mario Bros.             |45.31             |\n",
      "|Tetris                        |35.84             |\n",
      "|Mario Kart Wii                |35.52             |\n",
      "|Wii Sports Resort             |32.77             |\n",
      "|Pokemon Red/Pokemon Blue      |31.37             |\n",
      "|Call of Duty: Black Ops       |30.82             |\n",
      "|Call of Duty: Modern Warfare 3|30.59             |\n",
      "|New Super Mario Bros.         |29.8              |\n",
      "+------------------------------+------------------+\n",
      "\n"
     ]
    }
   ],
   "source": [
    "# Global_Sales\n",
    "spark.sql(\"\"\"SELECT Name, \n",
    "            ROUND(SUM(Global_Sales), 2) AS Top10_Global_Sales\n",
    "            FROM videogame_eda_tbl\n",
    "            GROUP BY Name\n",
    "            ORDER BY Top10_Global_Sales DESC\n",
    "            LIMIT 10\"\"\").show(truncate = False)"
   ]
  },
  {
   "cell_type": "code",
   "execution_count": 197,
   "metadata": {},
   "outputs": [
    {
     "name": "stdout",
     "output_type": "stream",
     "text": [
      "+------------------------------+-----------------+\n",
      "|Name                          |Top10_Other_Sales|\n",
      "+------------------------------+-----------------+\n",
      "|Grand Theft Auto: San Andreas |10.71            |\n",
      "|Wii Sports                    |8.45             |\n",
      "|Grand Theft Auto V            |7.9              |\n",
      "|Gran Turismo 4                |7.53             |\n",
      "|Call of Duty: Black Ops II    |3.76             |\n",
      "|FIFA Soccer 08                |3.52             |\n",
      "|Pro Evolution Soccer 2008     |3.51             |\n",
      "|Call of Duty: Black Ops 3     |3.49             |\n",
      "|Call of Duty: Black Ops       |3.31             |\n",
      "|Call of Duty: Modern Warfare 3|3.29             |\n",
      "+------------------------------+-----------------+\n",
      "\n"
     ]
    }
   ],
   "source": [
    "# Other_Sales\n",
    "spark.sql(\"\"\"SELECT Name, \n",
    "            ROUND(SUM(Other_Sales), 2) AS Top10_Other_Sales\n",
    "            FROM videogame_eda_tbl\n",
    "            GROUP BY Name\n",
    "            ORDER BY Top10_Other_Sales DESC\n",
    "            LIMIT 10\"\"\").show(truncate = False)"
   ]
  },
  {
   "cell_type": "code",
   "execution_count": 216,
   "metadata": {},
   "outputs": [
    {
     "name": "stdout",
     "output_type": "stream",
     "text": [
      "+------------------+-----------+\n",
      "|Most_Popular_Genre|Total_Sales|\n",
      "+------------------+-----------+\n",
      "|Action            |3489.45    |\n",
      "|Sports            |2663.27    |\n",
      "|Shooter           |2105.39    |\n",
      "|Role-Playing      |1869.01    |\n",
      "|Platform          |1655.85    |\n",
      "|Misc              |1605.69    |\n",
      "|Racing            |1457.57    |\n",
      "|Fighting          |895.01     |\n",
      "|Simulation        |780.68     |\n",
      "|Puzzle            |485.59     |\n",
      "|Adventure         |475.28     |\n",
      "|Strategy          |348.73     |\n",
      "+------------------+-----------+\n",
      "\n"
     ]
    }
   ],
   "source": [
    "# Popular Genres:Identify which genres are the most popular based on sales.\n",
    "spark.sql(\"\"\"SELECT Genre \n",
    "            AS Most_Popular_Genre,\n",
    "            ROUND(SUM(NA_Sales + JP_Sales + EU_Sales + Other_Sales + Global_Sales), 2) \n",
    "            AS Total_Sales\n",
    "            FROM videogame_eda_tbl\n",
    "            WHERE Genre IS NOT NULL \n",
    "            GROUP BY Genre\n",
    "            ORDER BY Total_Sales DESC\"\"\").show(100, truncate = False)"
   ]
  },
  {
   "cell_type": "code",
   "execution_count": 228,
   "metadata": {},
   "outputs": [
    {
     "name": "stdout",
     "output_type": "stream",
     "text": [
      "+--------+-----------+\n",
      "|Platform|Total_Users|\n",
      "+--------+-----------+\n",
      "|PC      |473781.0   |\n",
      "|X360    |180793.0   |\n",
      "|PS3     |180567.0   |\n",
      "|PS4     |133166.0   |\n",
      "|PS2     |54186.0    |\n",
      "|XOne    |52010.0    |\n",
      "|Wii     |29749.0    |\n",
      "|WiiU    |22381.0    |\n",
      "|3DS     |16041.0    |\n",
      "|DS      |15764.0    |\n",
      "|XB      |14216.0    |\n",
      "|PSV     |13776.0    |\n",
      "|GC      |13084.0    |\n",
      "|PSP     |12808.0    |\n",
      "|PS      |11964.0    |\n",
      "|GBA     |5856.0     |\n",
      "|DC      |1183.0     |\n",
      "|3DO     |NULL       |\n",
      "|NES     |NULL       |\n",
      "|GEN     |NULL       |\n",
      "|PCFX    |NULL       |\n",
      "|GG      |NULL       |\n",
      "|SNES    |NULL       |\n",
      "|GB      |NULL       |\n",
      "|SCD     |NULL       |\n",
      "|N64     |NULL       |\n",
      "|2600    |NULL       |\n",
      "|WS      |NULL       |\n",
      "|TG16    |NULL       |\n",
      "|NG      |NULL       |\n",
      "|SAT     |NULL       |\n",
      "+--------+-----------+\n",
      "\n"
     ]
    }
   ],
   "source": [
    "# Find total users per gaming platform\n",
    "spark.sql(\"\"\"SELECT Platform, \n",
    "          SUM(User_Count) AS Total_Users\n",
    "          FROM videogame_eda_tbl\n",
    "          GROUP BY Platform\n",
    "          ORDER BY Total_Users DESC\n",
    "          \"\"\").show(100, truncate = False)"
   ]
  },
  {
   "cell_type": "code",
   "execution_count": null,
   "metadata": {},
   "outputs": [],
   "source": []
  }
 ],
 "metadata": {
  "kernelspec": {
   "display_name": ".venv",
   "language": "python",
   "name": "python3"
  },
  "language_info": {
   "codemirror_mode": {
    "name": "ipython",
    "version": 3
   },
   "file_extension": ".py",
   "mimetype": "text/x-python",
   "name": "python",
   "nbconvert_exporter": "python",
   "pygments_lexer": "ipython3",
   "version": "3.12.3"
  }
 },
 "nbformat": 4,
 "nbformat_minor": 2
}
